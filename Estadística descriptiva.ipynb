{
 "cells": [
  {
   "cell_type": "markdown",
   "metadata": {},
   "source": [
    "## 1) Librerias ##\n",
    "\n",
    "\n",
    "**Sympy:**\n",
    "\n",
    "Es una biblioteca de python que tiene caracteristicas de un sistema de álgebra coputacional.\n",
    "\n",
    "https://docs.sympy.org/latest/tutorial/matrices.html\n",
    "\n",
    "**Numpy:**\n",
    "\n",
    "Es una biblioteca de python que da la opcion de trabajar con vectores y matrices y una gran cantidad de funciones matemáticas.\n",
    "\n",
    "https://numpy.org/\n",
    "\n",
    "**Matplotlib:**\n",
    "\n",
    "Es una biblioteca de python que sirve para la generación de graficas a partir de datos.\n",
    "\n",
    "https://matplotlib.org/\n",
    "\n",
    "**Pandas:**\n",
    "\n",
    "Es una biblioteca para manipulación y análisis de datos para el lenguaje de programación Python. En particular, ofrece estructuras de datos y operaciones para manipular tablas numéricas y series temporales. \n",
    "\n",
    "https://pandas.pydata.org/\n",
    "\n",
    "**Seaborn:**\n",
    "\n",
    "Es una biblioteca de visualización de datos de Python basada en matplotlib. Proporciona una interfaz de alto nivel para dibujar gráficos estadísticos atractivos e informativos.\n",
    "\n",
    "https://seaborn.pydata.org/\n",
    "\n",
    "\n",
    "**Math:**\n",
    "\n",
    "Es un módulo que proporciona acceso a las funciones matemáticas definidas por el estándar de C.\n",
    "\n",
    "https://docs.python.org/3/library/math.html"
   ]
  },
  {
   "cell_type": "code",
   "execution_count": 1,
   "metadata": {},
   "outputs": [],
   "source": [
    "import numpy as np\n",
    "from sympy import *\n",
    "import pandas as pd\n",
    "import seaborn as sns\n",
    "import matplotlib.pyplot as plt\n",
    "import math as mt\n",
    "from numpy import random"
   ]
  },
  {
   "cell_type": "markdown",
   "metadata": {},
   "source": [
    "## 2) Fundamentos de python \n"
   ]
  },
  {
   "cell_type": "code",
   "execution_count": 2,
   "metadata": {},
   "outputs": [
    {
     "name": "stderr",
     "output_type": "stream",
     "text": [
      "C:\\Users\\User\\anaconda3\\lib\\site-packages\\IPython\\core\\display.py:701: UserWarning: Consider using IPython.display.IFrame instead\n",
      "  warnings.warn(\"Consider using IPython.display.IFrame instead\")\n"
     ]
    },
    {
     "data": {
      "text/html": [
       "<iframe width=\"560\" height=\"315\" src=\"https://www.youtube.com/embed/chPhlsHoEPo?rel=0&amp;controls=0&amp;showinfo=0\" frameborder=\"0\" allowfullscreen></iframe>"
      ],
      "text/plain": [
       "<IPython.core.display.HTML object>"
      ]
     },
     "execution_count": 2,
     "metadata": {},
     "output_type": "execute_result"
    }
   ],
   "source": [
    "from IPython.display import HTML\n",
    "\n",
    "HTML('<iframe width=\"560\" height=\"315\" src=\"https://www.youtube.com/embed/chPhlsHoEPo?rel=0&amp;controls=0&amp;showinfo=0\" frameborder=\"0\" allowfullscreen></iframe>')"
   ]
  },
  {
   "cell_type": "code",
   "execution_count": 3,
   "metadata": {},
   "outputs": [
    {
     "data": {
      "text/html": [
       "<iframe width=\"560\" height=\"315\" src=\"https://www.youtube.com/embed/S_f2qV2_U00?rel=0&amp; allowfullscreen></iframe>"
      ],
      "text/plain": [
       "<IPython.core.display.HTML object>"
      ]
     },
     "execution_count": 3,
     "metadata": {},
     "output_type": "execute_result"
    }
   ],
   "source": [
    "from IPython.display import HTML\n",
    "\n",
    "HTML('<iframe width=\"560\" height=\"315\" src=\"https://www.youtube.com/embed/S_f2qV2_U00?rel=0&amp; allowfullscreen></iframe>')"
   ]
  },
  {
   "cell_type": "markdown",
   "metadata": {},
   "source": [
    "## 3) Subir archivos"
   ]
  },
  {
   "cell_type": "code",
   "execution_count": 4,
   "metadata": {},
   "outputs": [
    {
     "data": {
      "text/html": [
       "<div>\n",
       "<style scoped>\n",
       "    .dataframe tbody tr th:only-of-type {\n",
       "        vertical-align: middle;\n",
       "    }\n",
       "\n",
       "    .dataframe tbody tr th {\n",
       "        vertical-align: top;\n",
       "    }\n",
       "\n",
       "    .dataframe thead th {\n",
       "        text-align: right;\n",
       "    }\n",
       "</style>\n",
       "<table border=\"1\" class=\"dataframe\">\n",
       "  <thead>\n",
       "    <tr style=\"text-align: right;\">\n",
       "      <th></th>\n",
       "      <th>X</th>\n",
       "    </tr>\n",
       "  </thead>\n",
       "  <tbody>\n",
       "    <tr>\n",
       "      <th>0</th>\n",
       "      <td>1.3</td>\n",
       "    </tr>\n",
       "    <tr>\n",
       "      <th>1</th>\n",
       "      <td>1.3</td>\n",
       "    </tr>\n",
       "    <tr>\n",
       "      <th>2</th>\n",
       "      <td>1.4</td>\n",
       "    </tr>\n",
       "    <tr>\n",
       "      <th>3</th>\n",
       "      <td>1.5</td>\n",
       "    </tr>\n",
       "    <tr>\n",
       "      <th>4</th>\n",
       "      <td>1.7</td>\n",
       "    </tr>\n",
       "    <tr>\n",
       "      <th>5</th>\n",
       "      <td>1.7</td>\n",
       "    </tr>\n",
       "    <tr>\n",
       "      <th>6</th>\n",
       "      <td>1.8</td>\n",
       "    </tr>\n",
       "    <tr>\n",
       "      <th>7</th>\n",
       "      <td>1.8</td>\n",
       "    </tr>\n",
       "    <tr>\n",
       "      <th>8</th>\n",
       "      <td>1.9</td>\n",
       "    </tr>\n",
       "    <tr>\n",
       "      <th>9</th>\n",
       "      <td>2.1</td>\n",
       "    </tr>\n",
       "    <tr>\n",
       "      <th>10</th>\n",
       "      <td>2.2</td>\n",
       "    </tr>\n",
       "    <tr>\n",
       "      <th>11</th>\n",
       "      <td>2.3</td>\n",
       "    </tr>\n",
       "    <tr>\n",
       "      <th>12</th>\n",
       "      <td>2.4</td>\n",
       "    </tr>\n",
       "    <tr>\n",
       "      <th>13</th>\n",
       "      <td>2.5</td>\n",
       "    </tr>\n",
       "    <tr>\n",
       "      <th>14</th>\n",
       "      <td>2.7</td>\n",
       "    </tr>\n",
       "    <tr>\n",
       "      <th>15</th>\n",
       "      <td>2.8</td>\n",
       "    </tr>\n",
       "    <tr>\n",
       "      <th>16</th>\n",
       "      <td>2.8</td>\n",
       "    </tr>\n",
       "    <tr>\n",
       "      <th>17</th>\n",
       "      <td>2.8</td>\n",
       "    </tr>\n",
       "    <tr>\n",
       "      <th>18</th>\n",
       "      <td>2.9</td>\n",
       "    </tr>\n",
       "    <tr>\n",
       "      <th>19</th>\n",
       "      <td>3.1</td>\n",
       "    </tr>\n",
       "    <tr>\n",
       "      <th>20</th>\n",
       "      <td>3.3</td>\n",
       "    </tr>\n",
       "    <tr>\n",
       "      <th>21</th>\n",
       "      <td>3.6</td>\n",
       "    </tr>\n",
       "    <tr>\n",
       "      <th>22</th>\n",
       "      <td>3.7</td>\n",
       "    </tr>\n",
       "    <tr>\n",
       "      <th>23</th>\n",
       "      <td>3.8</td>\n",
       "    </tr>\n",
       "    <tr>\n",
       "      <th>24</th>\n",
       "      <td>3.9</td>\n",
       "    </tr>\n",
       "    <tr>\n",
       "      <th>25</th>\n",
       "      <td>4.1</td>\n",
       "    </tr>\n",
       "    <tr>\n",
       "      <th>26</th>\n",
       "      <td>4.3</td>\n",
       "    </tr>\n",
       "    <tr>\n",
       "      <th>27</th>\n",
       "      <td>4.7</td>\n",
       "    </tr>\n",
       "    <tr>\n",
       "      <th>28</th>\n",
       "      <td>4.9</td>\n",
       "    </tr>\n",
       "    <tr>\n",
       "      <th>29</th>\n",
       "      <td>5.1</td>\n",
       "    </tr>\n",
       "    <tr>\n",
       "      <th>30</th>\n",
       "      <td>5.7</td>\n",
       "    </tr>\n",
       "    <tr>\n",
       "      <th>31</th>\n",
       "      <td>5.8</td>\n",
       "    </tr>\n",
       "    <tr>\n",
       "      <th>32</th>\n",
       "      <td>6.1</td>\n",
       "    </tr>\n",
       "    <tr>\n",
       "      <th>33</th>\n",
       "      <td>6.2</td>\n",
       "    </tr>\n",
       "    <tr>\n",
       "      <th>34</th>\n",
       "      <td>6.3</td>\n",
       "    </tr>\n",
       "  </tbody>\n",
       "</table>\n",
       "</div>"
      ],
      "text/plain": [
       "      X\n",
       "0   1.3\n",
       "1   1.3\n",
       "2   1.4\n",
       "3   1.5\n",
       "4   1.7\n",
       "5   1.7\n",
       "6   1.8\n",
       "7   1.8\n",
       "8   1.9\n",
       "9   2.1\n",
       "10  2.2\n",
       "11  2.3\n",
       "12  2.4\n",
       "13  2.5\n",
       "14  2.7\n",
       "15  2.8\n",
       "16  2.8\n",
       "17  2.8\n",
       "18  2.9\n",
       "19  3.1\n",
       "20  3.3\n",
       "21  3.6\n",
       "22  3.7\n",
       "23  3.8\n",
       "24  3.9\n",
       "25  4.1\n",
       "26  4.3\n",
       "27  4.7\n",
       "28  4.9\n",
       "29  5.1\n",
       "30  5.7\n",
       "31  5.8\n",
       "32  6.1\n",
       "33  6.2\n",
       "34  6.3"
      ]
     },
     "execution_count": 4,
     "metadata": {},
     "output_type": "execute_result"
    }
   ],
   "source": [
    "datos=pd.DataFrame({'X':[1.3,1.3,1.4,1.5,1.7,1.7,1.8,1.8,1.9,2.1,2.2,2.3,2.4,2.5,2.7,2.8,2.8,2.8,2.9,3.1,3.3,3.6,3.7,3.8,3.9,4.1,4.3,4.7,4.9,5.1,5.7,5.8,6.1,6.2,6.3]})\n",
    "datos"
   ]
  },
  {
   "cell_type": "code",
   "execution_count": 5,
   "metadata": {},
   "outputs": [
    {
     "name": "stdout",
     "output_type": "stream",
     "text": [
      "N=35, L=1.3, U=6.3 y um=0.1\n"
     ]
    }
   ],
   "source": [
    "X=datos['X']\n",
    "N=len(X) # Numero de datos\n",
    "L=X.min() # Minimo valor\n",
    "U=X.max() # Maximo valor\n",
    "um=0.1 # Unidad de medida\n",
    "print(f'N={N}, L={L}, U={U} y um={um}')"
   ]
  },
  {
   "cell_type": "markdown",
   "metadata": {},
   "source": [
    "## 4) Regla de Sturges\n",
    "\n",
    "El número de clases $c$ esta dado por\n",
    "\n",
    "$$c=1+\\frac{ln(N)}{ln(2)} $$"
   ]
  },
  {
   "cell_type": "code",
   "execution_count": 6,
   "metadata": {},
   "outputs": [],
   "source": [
    "# Entrada: Número de datos N\n",
    "# Salida: Número sugerido de clases\n",
    "def Sturges(N):\n",
    "    c=1+mt.log(N)/mt.log(2)\n",
    "    return int(np.round(c))"
   ]
  },
  {
   "cell_type": "code",
   "execution_count": 7,
   "metadata": {},
   "outputs": [
    {
     "data": {
      "text/plain": [
       "6"
      ]
     },
     "execution_count": 7,
     "metadata": {},
     "output_type": "execute_result"
    }
   ],
   "source": [
    "c=Sturges(N)\n",
    "c"
   ]
  },
  {
   "cell_type": "markdown",
   "metadata": {},
   "source": [
    "## 5) Tablas de frecuencia para datos agrupados"
   ]
  },
  {
   "cell_type": "code",
   "execution_count": 8,
   "metadata": {},
   "outputs": [
    {
     "data": {
      "text/html": [
       "<div>\n",
       "<style scoped>\n",
       "    .dataframe tbody tr th:only-of-type {\n",
       "        vertical-align: middle;\n",
       "    }\n",
       "\n",
       "    .dataframe tbody tr th {\n",
       "        vertical-align: top;\n",
       "    }\n",
       "\n",
       "    .dataframe thead th {\n",
       "        text-align: right;\n",
       "    }\n",
       "</style>\n",
       "<table border=\"1\" class=\"dataframe\">\n",
       "  <thead>\n",
       "    <tr style=\"text-align: right;\">\n",
       "      <th></th>\n",
       "      <th>X</th>\n",
       "      <th>Clases</th>\n",
       "    </tr>\n",
       "  </thead>\n",
       "  <tbody>\n",
       "    <tr>\n",
       "      <th>0</th>\n",
       "      <td>1.3</td>\n",
       "      <td>(1.3, 2.1]</td>\n",
       "    </tr>\n",
       "    <tr>\n",
       "      <th>1</th>\n",
       "      <td>1.3</td>\n",
       "      <td>(1.3, 2.1]</td>\n",
       "    </tr>\n",
       "    <tr>\n",
       "      <th>2</th>\n",
       "      <td>1.4</td>\n",
       "      <td>(1.3, 2.1]</td>\n",
       "    </tr>\n",
       "    <tr>\n",
       "      <th>3</th>\n",
       "      <td>1.5</td>\n",
       "      <td>(1.3, 2.1]</td>\n",
       "    </tr>\n",
       "    <tr>\n",
       "      <th>4</th>\n",
       "      <td>1.7</td>\n",
       "      <td>(1.3, 2.1]</td>\n",
       "    </tr>\n",
       "    <tr>\n",
       "      <th>5</th>\n",
       "      <td>1.7</td>\n",
       "      <td>(1.3, 2.1]</td>\n",
       "    </tr>\n",
       "    <tr>\n",
       "      <th>6</th>\n",
       "      <td>1.8</td>\n",
       "      <td>(1.3, 2.1]</td>\n",
       "    </tr>\n",
       "    <tr>\n",
       "      <th>7</th>\n",
       "      <td>1.8</td>\n",
       "      <td>(1.3, 2.1]</td>\n",
       "    </tr>\n",
       "    <tr>\n",
       "      <th>8</th>\n",
       "      <td>1.9</td>\n",
       "      <td>(1.3, 2.1]</td>\n",
       "    </tr>\n",
       "    <tr>\n",
       "      <th>9</th>\n",
       "      <td>2.1</td>\n",
       "      <td>(1.3, 2.1]</td>\n",
       "    </tr>\n",
       "    <tr>\n",
       "      <th>10</th>\n",
       "      <td>2.2</td>\n",
       "      <td>(2.1, 3.0]</td>\n",
       "    </tr>\n",
       "    <tr>\n",
       "      <th>11</th>\n",
       "      <td>2.3</td>\n",
       "      <td>(2.1, 3.0]</td>\n",
       "    </tr>\n",
       "    <tr>\n",
       "      <th>12</th>\n",
       "      <td>2.4</td>\n",
       "      <td>(2.1, 3.0]</td>\n",
       "    </tr>\n",
       "    <tr>\n",
       "      <th>13</th>\n",
       "      <td>2.5</td>\n",
       "      <td>(2.1, 3.0]</td>\n",
       "    </tr>\n",
       "    <tr>\n",
       "      <th>14</th>\n",
       "      <td>2.7</td>\n",
       "      <td>(2.1, 3.0]</td>\n",
       "    </tr>\n",
       "    <tr>\n",
       "      <th>15</th>\n",
       "      <td>2.8</td>\n",
       "      <td>(2.1, 3.0]</td>\n",
       "    </tr>\n",
       "    <tr>\n",
       "      <th>16</th>\n",
       "      <td>2.8</td>\n",
       "      <td>(2.1, 3.0]</td>\n",
       "    </tr>\n",
       "    <tr>\n",
       "      <th>17</th>\n",
       "      <td>2.8</td>\n",
       "      <td>(2.1, 3.0]</td>\n",
       "    </tr>\n",
       "    <tr>\n",
       "      <th>18</th>\n",
       "      <td>2.9</td>\n",
       "      <td>(2.1, 3.0]</td>\n",
       "    </tr>\n",
       "    <tr>\n",
       "      <th>19</th>\n",
       "      <td>3.1</td>\n",
       "      <td>(3.0, 3.8]</td>\n",
       "    </tr>\n",
       "    <tr>\n",
       "      <th>20</th>\n",
       "      <td>3.3</td>\n",
       "      <td>(3.0, 3.8]</td>\n",
       "    </tr>\n",
       "    <tr>\n",
       "      <th>21</th>\n",
       "      <td>3.6</td>\n",
       "      <td>(3.0, 3.8]</td>\n",
       "    </tr>\n",
       "    <tr>\n",
       "      <th>22</th>\n",
       "      <td>3.7</td>\n",
       "      <td>(3.0, 3.8]</td>\n",
       "    </tr>\n",
       "    <tr>\n",
       "      <th>23</th>\n",
       "      <td>3.8</td>\n",
       "      <td>(3.0, 3.8]</td>\n",
       "    </tr>\n",
       "    <tr>\n",
       "      <th>24</th>\n",
       "      <td>3.9</td>\n",
       "      <td>(3.8, 4.6]</td>\n",
       "    </tr>\n",
       "    <tr>\n",
       "      <th>25</th>\n",
       "      <td>4.1</td>\n",
       "      <td>(3.8, 4.6]</td>\n",
       "    </tr>\n",
       "    <tr>\n",
       "      <th>26</th>\n",
       "      <td>4.3</td>\n",
       "      <td>(3.8, 4.6]</td>\n",
       "    </tr>\n",
       "    <tr>\n",
       "      <th>27</th>\n",
       "      <td>4.7</td>\n",
       "      <td>(4.6, 5.5]</td>\n",
       "    </tr>\n",
       "    <tr>\n",
       "      <th>28</th>\n",
       "      <td>4.9</td>\n",
       "      <td>(4.6, 5.5]</td>\n",
       "    </tr>\n",
       "    <tr>\n",
       "      <th>29</th>\n",
       "      <td>5.1</td>\n",
       "      <td>(4.6, 5.5]</td>\n",
       "    </tr>\n",
       "    <tr>\n",
       "      <th>30</th>\n",
       "      <td>5.7</td>\n",
       "      <td>(5.5, 6.3]</td>\n",
       "    </tr>\n",
       "    <tr>\n",
       "      <th>31</th>\n",
       "      <td>5.8</td>\n",
       "      <td>(5.5, 6.3]</td>\n",
       "    </tr>\n",
       "    <tr>\n",
       "      <th>32</th>\n",
       "      <td>6.1</td>\n",
       "      <td>(5.5, 6.3]</td>\n",
       "    </tr>\n",
       "    <tr>\n",
       "      <th>33</th>\n",
       "      <td>6.2</td>\n",
       "      <td>(5.5, 6.3]</td>\n",
       "    </tr>\n",
       "    <tr>\n",
       "      <th>34</th>\n",
       "      <td>6.3</td>\n",
       "      <td>(5.5, 6.3]</td>\n",
       "    </tr>\n",
       "  </tbody>\n",
       "</table>\n",
       "</div>"
      ],
      "text/plain": [
       "      X      Clases\n",
       "0   1.3  (1.3, 2.1]\n",
       "1   1.3  (1.3, 2.1]\n",
       "2   1.4  (1.3, 2.1]\n",
       "3   1.5  (1.3, 2.1]\n",
       "4   1.7  (1.3, 2.1]\n",
       "5   1.7  (1.3, 2.1]\n",
       "6   1.8  (1.3, 2.1]\n",
       "7   1.8  (1.3, 2.1]\n",
       "8   1.9  (1.3, 2.1]\n",
       "9   2.1  (1.3, 2.1]\n",
       "10  2.2  (2.1, 3.0]\n",
       "11  2.3  (2.1, 3.0]\n",
       "12  2.4  (2.1, 3.0]\n",
       "13  2.5  (2.1, 3.0]\n",
       "14  2.7  (2.1, 3.0]\n",
       "15  2.8  (2.1, 3.0]\n",
       "16  2.8  (2.1, 3.0]\n",
       "17  2.8  (2.1, 3.0]\n",
       "18  2.9  (2.1, 3.0]\n",
       "19  3.1  (3.0, 3.8]\n",
       "20  3.3  (3.0, 3.8]\n",
       "21  3.6  (3.0, 3.8]\n",
       "22  3.7  (3.0, 3.8]\n",
       "23  3.8  (3.0, 3.8]\n",
       "24  3.9  (3.8, 4.6]\n",
       "25  4.1  (3.8, 4.6]\n",
       "26  4.3  (3.8, 4.6]\n",
       "27  4.7  (4.6, 5.5]\n",
       "28  4.9  (4.6, 5.5]\n",
       "29  5.1  (4.6, 5.5]\n",
       "30  5.7  (5.5, 6.3]\n",
       "31  5.8  (5.5, 6.3]\n",
       "32  6.1  (5.5, 6.3]\n",
       "33  6.2  (5.5, 6.3]\n",
       "34  6.3  (5.5, 6.3]"
      ]
     },
     "execution_count": 8,
     "metadata": {},
     "output_type": "execute_result"
    }
   ],
   "source": [
    "datos['Clases']=pd.cut(datos['X'], bins=c,precision=1) # Clasifica los datos en clases\n",
    "datos"
   ]
  },
  {
   "cell_type": "code",
   "execution_count": 9,
   "metadata": {},
   "outputs": [
    {
     "data": {
      "text/html": [
       "<div>\n",
       "<style scoped>\n",
       "    .dataframe tbody tr th:only-of-type {\n",
       "        vertical-align: middle;\n",
       "    }\n",
       "\n",
       "    .dataframe tbody tr th {\n",
       "        vertical-align: top;\n",
       "    }\n",
       "\n",
       "    .dataframe thead th {\n",
       "        text-align: right;\n",
       "    }\n",
       "</style>\n",
       "<table border=\"1\" class=\"dataframe\">\n",
       "  <thead>\n",
       "    <tr style=\"text-align: right;\">\n",
       "      <th></th>\n",
       "      <th>Frecuencia_absoluta</th>\n",
       "      <th>Frecuencia_relativa</th>\n",
       "      <th>Frecuencia_acumulada</th>\n",
       "      <th>Frecuencia_relativa_acumulada</th>\n",
       "    </tr>\n",
       "    <tr>\n",
       "      <th>Clases</th>\n",
       "      <th></th>\n",
       "      <th></th>\n",
       "      <th></th>\n",
       "      <th></th>\n",
       "    </tr>\n",
       "  </thead>\n",
       "  <tbody>\n",
       "    <tr>\n",
       "      <th>(1.3, 2.13]</th>\n",
       "      <td>10</td>\n",
       "      <td>0.285714</td>\n",
       "      <td>10</td>\n",
       "      <td>0.285714</td>\n",
       "    </tr>\n",
       "    <tr>\n",
       "      <th>(2.13, 2.97]</th>\n",
       "      <td>9</td>\n",
       "      <td>0.257143</td>\n",
       "      <td>19</td>\n",
       "      <td>0.542857</td>\n",
       "    </tr>\n",
       "    <tr>\n",
       "      <th>(2.97, 3.8]</th>\n",
       "      <td>5</td>\n",
       "      <td>0.142857</td>\n",
       "      <td>24</td>\n",
       "      <td>0.685714</td>\n",
       "    </tr>\n",
       "    <tr>\n",
       "      <th>(3.8, 4.63]</th>\n",
       "      <td>3</td>\n",
       "      <td>0.085714</td>\n",
       "      <td>27</td>\n",
       "      <td>0.771429</td>\n",
       "    </tr>\n",
       "    <tr>\n",
       "      <th>(4.63, 5.47]</th>\n",
       "      <td>3</td>\n",
       "      <td>0.085714</td>\n",
       "      <td>30</td>\n",
       "      <td>0.857143</td>\n",
       "    </tr>\n",
       "    <tr>\n",
       "      <th>(5.47, 6.3]</th>\n",
       "      <td>5</td>\n",
       "      <td>0.142857</td>\n",
       "      <td>35</td>\n",
       "      <td>1.000000</td>\n",
       "    </tr>\n",
       "  </tbody>\n",
       "</table>\n",
       "</div>"
      ],
      "text/plain": [
       "              Frecuencia_absoluta  Frecuencia_relativa  Frecuencia_acumulada  \\\n",
       "Clases                                                                         \n",
       "(1.3, 2.13]                    10             0.285714                    10   \n",
       "(2.13, 2.97]                    9             0.257143                    19   \n",
       "(2.97, 3.8]                     5             0.142857                    24   \n",
       "(3.8, 4.63]                     3             0.085714                    27   \n",
       "(4.63, 5.47]                    3             0.085714                    30   \n",
       "(5.47, 6.3]                     5             0.142857                    35   \n",
       "\n",
       "              Frecuencia_relativa_acumulada  \n",
       "Clases                                       \n",
       "(1.3, 2.13]                        0.285714  \n",
       "(2.13, 2.97]                       0.542857  \n",
       "(2.97, 3.8]                        0.685714  \n",
       "(3.8, 4.63]                        0.771429  \n",
       "(4.63, 5.47]                       0.857143  \n",
       "(5.47, 6.3]                        1.000000  "
      ]
     },
     "execution_count": 9,
     "metadata": {},
     "output_type": "execute_result"
    }
   ],
   "source": [
    "datos['Clases']=pd.cut(datos['X'], bins=c,precision=2)\n",
    "TF=(datos.groupby(\"Clases\").agg(Frecuencia_absoluta=(\"X\", \"count\"))) #Frecuencias absolutas \n",
    "TF['Frecuencia_relativa']=TF['Frecuencia_absoluta']/sum(TF['Frecuencia_absoluta']) #Frecuencia relativa\n",
    "TF['Frecuencia_acumulada']=TF['Frecuencia_absoluta'].cumsum() #Frecuencia acumulada\n",
    "TF['Frecuencia_relativa_acumulada']=TF['Frecuencia_relativa'].cumsum() #Frecuencia relativa acumulada\n",
    "TF\n"
   ]
  },
  {
   "cell_type": "markdown",
   "metadata": {},
   "source": [
    "## 6) Marcas de clase "
   ]
  },
  {
   "cell_type": "code",
   "execution_count": 10,
   "metadata": {},
   "outputs": [
    {
     "data": {
      "text/html": [
       "<div>\n",
       "<style scoped>\n",
       "    .dataframe tbody tr th:only-of-type {\n",
       "        vertical-align: middle;\n",
       "    }\n",
       "\n",
       "    .dataframe tbody tr th {\n",
       "        vertical-align: top;\n",
       "    }\n",
       "\n",
       "    .dataframe thead th {\n",
       "        text-align: right;\n",
       "    }\n",
       "</style>\n",
       "<table border=\"1\" class=\"dataframe\">\n",
       "  <thead>\n",
       "    <tr style=\"text-align: right;\">\n",
       "      <th></th>\n",
       "      <th>Frecuencia_absoluta</th>\n",
       "      <th>Frecuencia_relativa</th>\n",
       "      <th>Frecuencia_acumulada</th>\n",
       "      <th>Frecuencia_relativa_acumulada</th>\n",
       "      <th>Marca_de_clase</th>\n",
       "    </tr>\n",
       "    <tr>\n",
       "      <th>Clases</th>\n",
       "      <th></th>\n",
       "      <th></th>\n",
       "      <th></th>\n",
       "      <th></th>\n",
       "      <th></th>\n",
       "    </tr>\n",
       "  </thead>\n",
       "  <tbody>\n",
       "    <tr>\n",
       "      <th>(1.3, 2.13]</th>\n",
       "      <td>10</td>\n",
       "      <td>0.285714</td>\n",
       "      <td>10</td>\n",
       "      <td>0.285714</td>\n",
       "      <td>1.716667</td>\n",
       "    </tr>\n",
       "    <tr>\n",
       "      <th>(2.13, 2.97]</th>\n",
       "      <td>9</td>\n",
       "      <td>0.257143</td>\n",
       "      <td>19</td>\n",
       "      <td>0.542857</td>\n",
       "      <td>2.550000</td>\n",
       "    </tr>\n",
       "    <tr>\n",
       "      <th>(2.97, 3.8]</th>\n",
       "      <td>5</td>\n",
       "      <td>0.142857</td>\n",
       "      <td>24</td>\n",
       "      <td>0.685714</td>\n",
       "      <td>3.383333</td>\n",
       "    </tr>\n",
       "    <tr>\n",
       "      <th>(3.8, 4.63]</th>\n",
       "      <td>3</td>\n",
       "      <td>0.085714</td>\n",
       "      <td>27</td>\n",
       "      <td>0.771429</td>\n",
       "      <td>4.216667</td>\n",
       "    </tr>\n",
       "    <tr>\n",
       "      <th>(4.63, 5.47]</th>\n",
       "      <td>3</td>\n",
       "      <td>0.085714</td>\n",
       "      <td>30</td>\n",
       "      <td>0.857143</td>\n",
       "      <td>5.050000</td>\n",
       "    </tr>\n",
       "    <tr>\n",
       "      <th>(5.47, 6.3]</th>\n",
       "      <td>5</td>\n",
       "      <td>0.142857</td>\n",
       "      <td>35</td>\n",
       "      <td>1.000000</td>\n",
       "      <td>5.883333</td>\n",
       "    </tr>\n",
       "  </tbody>\n",
       "</table>\n",
       "</div>"
      ],
      "text/plain": [
       "              Frecuencia_absoluta  Frecuencia_relativa  Frecuencia_acumulada  \\\n",
       "Clases                                                                         \n",
       "(1.3, 2.13]                    10             0.285714                    10   \n",
       "(2.13, 2.97]                    9             0.257143                    19   \n",
       "(2.97, 3.8]                     5             0.142857                    24   \n",
       "(3.8, 4.63]                     3             0.085714                    27   \n",
       "(4.63, 5.47]                    3             0.085714                    30   \n",
       "(5.47, 6.3]                     5             0.142857                    35   \n",
       "\n",
       "              Frecuencia_relativa_acumulada  Marca_de_clase  \n",
       "Clases                                                       \n",
       "(1.3, 2.13]                        0.285714        1.716667  \n",
       "(2.13, 2.97]                       0.542857        2.550000  \n",
       "(2.97, 3.8]                        0.685714        3.383333  \n",
       "(3.8, 4.63]                        0.771429        4.216667  \n",
       "(4.63, 5.47]                       0.857143        5.050000  \n",
       "(5.47, 6.3]                        1.000000        5.883333  "
      ]
     },
     "execution_count": 10,
     "metadata": {},
     "output_type": "execute_result"
    }
   ],
   "source": [
    "X=np.array(datos['X'])\n",
    "\n",
    "I = X.min()\n",
    "S = X.max()\n",
    "\n",
    "intervalos = pd.interval_range(start=I,end=S,periods=c,name=\"Intervalo\",closed=\"left\")\n",
    "\n",
    "df = pd.DataFrame(index=intervalos)\n",
    "Marcas=df.index.mid\n",
    "TF['Marca_de_clase']  = Marcas\n",
    "TF"
   ]
  },
  {
   "cell_type": "markdown",
   "metadata": {},
   "source": [
    "## 7) Histograma "
   ]
  },
  {
   "cell_type": "code",
   "execution_count": 11,
   "metadata": {},
   "outputs": [
    {
     "data": {
      "image/png": "[encoded data removed]",
      "text/plain": [
       "<Figure size 432x288 with 1 Axes>"
      ]
     },
     "metadata": {
      "needs_background": "light"
     },
     "output_type": "display_data"
    }
   ],
   "source": [
    "plt.hist(datos['X'],bins=c,cumulative=False,density=False,color='yellow',edgecolor ='black')\n",
    "plt.xlabel('X')\n",
    "plt.ylabel('Frecuencias absolutas')\n",
    "plt.title('Histograma')\n",
    "#plt.grid(True,color='gray')\n",
    "plt.plot(TF['Marca_de_clase'] ,TF['Frecuencia_absoluta'] ,color='red')\n",
    "plt.show()"
   ]
  },
  {
   "cell_type": "markdown",
   "metadata": {},
   "source": [
    "## 8) Tablas de frecuencia datos no agrupados"
   ]
  },
  {
   "cell_type": "code",
   "execution_count": 12,
   "metadata": {},
   "outputs": [
    {
     "data": {
      "text/html": [
       "<div>\n",
       "<style scoped>\n",
       "    .dataframe tbody tr th:only-of-type {\n",
       "        vertical-align: middle;\n",
       "    }\n",
       "\n",
       "    .dataframe tbody tr th {\n",
       "        vertical-align: top;\n",
       "    }\n",
       "\n",
       "    .dataframe thead th {\n",
       "        text-align: right;\n",
       "    }\n",
       "</style>\n",
       "<table border=\"1\" class=\"dataframe\">\n",
       "  <thead>\n",
       "    <tr style=\"text-align: right;\">\n",
       "      <th></th>\n",
       "      <th>sepal_length</th>\n",
       "      <th>sepal_width</th>\n",
       "      <th>petal_length</th>\n",
       "      <th>petal_width</th>\n",
       "      <th>species</th>\n",
       "    </tr>\n",
       "  </thead>\n",
       "  <tbody>\n",
       "    <tr>\n",
       "      <th>0</th>\n",
       "      <td>5.1</td>\n",
       "      <td>3.5</td>\n",
       "      <td>1.4</td>\n",
       "      <td>0.2</td>\n",
       "      <td>setosa</td>\n",
       "    </tr>\n",
       "    <tr>\n",
       "      <th>1</th>\n",
       "      <td>4.9</td>\n",
       "      <td>3.0</td>\n",
       "      <td>1.4</td>\n",
       "      <td>0.2</td>\n",
       "      <td>setosa</td>\n",
       "    </tr>\n",
       "    <tr>\n",
       "      <th>2</th>\n",
       "      <td>4.7</td>\n",
       "      <td>3.2</td>\n",
       "      <td>1.3</td>\n",
       "      <td>0.2</td>\n",
       "      <td>setosa</td>\n",
       "    </tr>\n",
       "    <tr>\n",
       "      <th>3</th>\n",
       "      <td>4.6</td>\n",
       "      <td>3.1</td>\n",
       "      <td>1.5</td>\n",
       "      <td>0.2</td>\n",
       "      <td>setosa</td>\n",
       "    </tr>\n",
       "    <tr>\n",
       "      <th>4</th>\n",
       "      <td>5.0</td>\n",
       "      <td>3.6</td>\n",
       "      <td>1.4</td>\n",
       "      <td>0.2</td>\n",
       "      <td>setosa</td>\n",
       "    </tr>\n",
       "    <tr>\n",
       "      <th>...</th>\n",
       "      <td>...</td>\n",
       "      <td>...</td>\n",
       "      <td>...</td>\n",
       "      <td>...</td>\n",
       "      <td>...</td>\n",
       "    </tr>\n",
       "    <tr>\n",
       "      <th>145</th>\n",
       "      <td>6.7</td>\n",
       "      <td>3.0</td>\n",
       "      <td>5.2</td>\n",
       "      <td>2.3</td>\n",
       "      <td>virginica</td>\n",
       "    </tr>\n",
       "    <tr>\n",
       "      <th>146</th>\n",
       "      <td>6.3</td>\n",
       "      <td>2.5</td>\n",
       "      <td>5.0</td>\n",
       "      <td>1.9</td>\n",
       "      <td>virginica</td>\n",
       "    </tr>\n",
       "    <tr>\n",
       "      <th>147</th>\n",
       "      <td>6.5</td>\n",
       "      <td>3.0</td>\n",
       "      <td>5.2</td>\n",
       "      <td>2.0</td>\n",
       "      <td>virginica</td>\n",
       "    </tr>\n",
       "    <tr>\n",
       "      <th>148</th>\n",
       "      <td>6.2</td>\n",
       "      <td>3.4</td>\n",
       "      <td>5.4</td>\n",
       "      <td>2.3</td>\n",
       "      <td>virginica</td>\n",
       "    </tr>\n",
       "    <tr>\n",
       "      <th>149</th>\n",
       "      <td>5.9</td>\n",
       "      <td>3.0</td>\n",
       "      <td>5.1</td>\n",
       "      <td>1.8</td>\n",
       "      <td>virginica</td>\n",
       "    </tr>\n",
       "  </tbody>\n",
       "</table>\n",
       "<p>150 rows × 5 columns</p>\n",
       "</div>"
      ],
      "text/plain": [
       "     sepal_length  sepal_width  petal_length  petal_width    species\n",
       "0             5.1          3.5           1.4          0.2     setosa\n",
       "1             4.9          3.0           1.4          0.2     setosa\n",
       "2             4.7          3.2           1.3          0.2     setosa\n",
       "3             4.6          3.1           1.5          0.2     setosa\n",
       "4             5.0          3.6           1.4          0.2     setosa\n",
       "..            ...          ...           ...          ...        ...\n",
       "145           6.7          3.0           5.2          2.3  virginica\n",
       "146           6.3          2.5           5.0          1.9  virginica\n",
       "147           6.5          3.0           5.2          2.0  virginica\n",
       "148           6.2          3.4           5.4          2.3  virginica\n",
       "149           5.9          3.0           5.1          1.8  virginica\n",
       "\n",
       "[150 rows x 5 columns]"
      ]
     },
     "execution_count": 12,
     "metadata": {},
     "output_type": "execute_result"
    }
   ],
   "source": [
    "iris = pd.read_csv(\"https://raw.githubusercontent.com/toneloy/data/master/iris.csv\")\n",
    "N=len(iris)\n",
    "N\n",
    "iris"
   ]
  },
  {
   "cell_type": "code",
   "execution_count": 13,
   "metadata": {},
   "outputs": [
    {
     "data": {
      "text/html": [
       "<div>\n",
       "<style scoped>\n",
       "    .dataframe tbody tr th:only-of-type {\n",
       "        vertical-align: middle;\n",
       "    }\n",
       "\n",
       "    .dataframe tbody tr th {\n",
       "        vertical-align: top;\n",
       "    }\n",
       "\n",
       "    .dataframe thead th {\n",
       "        text-align: right;\n",
       "    }\n",
       "</style>\n",
       "<table border=\"1\" class=\"dataframe\">\n",
       "  <thead>\n",
       "    <tr style=\"text-align: right;\">\n",
       "      <th></th>\n",
       "      <th>Frecuencia_absoluta</th>\n",
       "      <th>Frecuencia_relativa</th>\n",
       "      <th>Frecuencia_acumulada</th>\n",
       "      <th>Frecuencia_relativa_acumulada</th>\n",
       "    </tr>\n",
       "    <tr>\n",
       "      <th>species</th>\n",
       "      <th></th>\n",
       "      <th></th>\n",
       "      <th></th>\n",
       "      <th></th>\n",
       "    </tr>\n",
       "  </thead>\n",
       "  <tbody>\n",
       "    <tr>\n",
       "      <th>setosa</th>\n",
       "      <td>50</td>\n",
       "      <td>0.333333</td>\n",
       "      <td>50</td>\n",
       "      <td>0.333333</td>\n",
       "    </tr>\n",
       "    <tr>\n",
       "      <th>versicolor</th>\n",
       "      <td>50</td>\n",
       "      <td>0.333333</td>\n",
       "      <td>100</td>\n",
       "      <td>0.666667</td>\n",
       "    </tr>\n",
       "    <tr>\n",
       "      <th>virginica</th>\n",
       "      <td>50</td>\n",
       "      <td>0.333333</td>\n",
       "      <td>150</td>\n",
       "      <td>1.000000</td>\n",
       "    </tr>\n",
       "  </tbody>\n",
       "</table>\n",
       "</div>"
      ],
      "text/plain": [
       "            Frecuencia_absoluta  Frecuencia_relativa  Frecuencia_acumulada  \\\n",
       "species                                                                      \n",
       "setosa                       50             0.333333                    50   \n",
       "versicolor                   50             0.333333                   100   \n",
       "virginica                    50             0.333333                   150   \n",
       "\n",
       "            Frecuencia_relativa_acumulada  \n",
       "species                                    \n",
       "setosa                           0.333333  \n",
       "versicolor                       0.666667  \n",
       "virginica                        1.000000  "
      ]
     },
     "execution_count": 13,
     "metadata": {},
     "output_type": "execute_result"
    }
   ],
   "source": [
    "TF_iris=(iris.groupby(\"species\").agg(Frecuencia_absoluta=(\"species\", \"count\")))\n",
    "TF_iris['Frecuencia_relativa']=TF_iris['Frecuencia_absoluta']/sum(TF_iris['Frecuencia_absoluta'])\n",
    "TF_iris['Frecuencia_acumulada']=TF_iris['Frecuencia_absoluta'].cumsum()\n",
    "TF_iris['Frecuencia_relativa_acumulada']=TF_iris['Frecuencia_relativa'].cumsum()\n",
    "TF_iris"
   ]
  },
  {
   "cell_type": "markdown",
   "metadata": {},
   "source": [
    "## 9) Obtener el codigo latex de las tablas"
   ]
  },
  {
   "cell_type": "code",
   "execution_count": 14,
   "metadata": {},
   "outputs": [
    {
     "name": "stdout",
     "output_type": "stream",
     "text": [
      "\\begin{tabular}{lrrrr}\n",
      "\\toprule\n",
      "{} &  Frecuencia\\_absoluta &  Frecuencia\\_relativa &  Frecuencia\\_acumulada &  Frecuencia\\_relativa\\_acumulada \\\\\n",
      "species    &                      &                      &                       &                                \\\\\n",
      "\\midrule\n",
      "setosa     &                   50 &             0.333333 &                    50 &                       0.333333 \\\\\n",
      "versicolor &                   50 &             0.333333 &                   100 &                       0.666667 \\\\\n",
      "virginica  &                   50 &             0.333333 &                   150 &                       1.000000 \\\\\n",
      "\\bottomrule\n",
      "\\end{tabular}\n",
      "\n"
     ]
    }
   ],
   "source": [
    "Tabla_df=pd.DataFrame(TF_iris)\n",
    "print( Tabla_df.to_latex())"
   ]
  },
  {
   "cell_type": "markdown",
   "metadata": {},
   "source": [
    "## 10) Graficas para frecuencias acumuladas y acumuladas relativas "
   ]
  },
  {
   "cell_type": "code",
   "execution_count": 15,
   "metadata": {},
   "outputs": [
    {
     "data": {
      "image/png": "[encoded data removed]",
      "text/plain": [
       "<Figure size 432x288 with 1 Axes>"
      ]
     },
     "metadata": {
      "needs_background": "light"
     },
     "output_type": "display_data"
    }
   ],
   "source": [
    "import numpy as np\n",
    "import matplotlib.pyplot as plt\n",
    " \n",
    "x1 = np.linspace(-20, 0, num=3)\n",
    "x2 = np.linspace(0, 50, num=2)\n",
    "x3 = np.linspace(50, 100, num=3)\n",
    "x4 = np.linspace(100, 200, num=3)\n",
    " \n",
    "plt.plot(x1, [0 for x in x1], 'g',  label='H(x) = 0, x en [-20, 0]')\n",
    "plt.plot(x2, [1/3 for x in x2], 'b', label='H(x) = 1/3, x en [0, 50)')\n",
    "plt.plot(x3, [2/3 for x in x3], 'r', label='H(x) = 2/3, x en [50,100)')\n",
    "plt.plot(x4, [1 for x in x4], 'gray', label='H(x) = 1, x en [100,$+\\infty$)')\n",
    "plt.plot(0, 0, 'go', markersize=5, fillstyle='none', markerfacecolor='w')\n",
    "plt.plot(50, 1/3, 'bo', markersize=5, fillstyle='none', markerfacecolor='w')\n",
    "plt.plot(100, 2/3, 'ro', markersize=5, fillstyle='none', markerfacecolor='w')\n",
    " \n",
    "plt.legend(bbox_to_anchor=(0., 1.02, 1., .102), loc='lower left',\n",
    "           ncol=2, mode=\"expand\", borderaxespad=0.)\n",
    "plt.ylabel('Frecuencia relativa acumulada') \n",
    "plt.title('Grafica de función a trozos ')\n",
    "plt.grid()\n",
    "plt.show()"
   ]
  },
  {
   "cell_type": "markdown",
   "metadata": {},
   "source": [
    "## 11) Diagrama de barras para frecuencias absolutas y frecuencias relativas - Datos no agrupados"
   ]
  },
  {
   "cell_type": "code",
   "execution_count": 16,
   "metadata": {},
   "outputs": [
    {
     "data": {
      "text/plain": [
       "Index(['setosa', 'versicolor', 'virginica'], dtype='object', name='species')"
      ]
     },
     "execution_count": 16,
     "metadata": {},
     "output_type": "execute_result"
    }
   ],
   "source": [
    "TF_iris['Frecuencia_absoluta'].index"
   ]
  },
  {
   "cell_type": "code",
   "execution_count": 17,
   "metadata": {},
   "outputs": [
    {
     "data": {
      "image/png": "[encoded data removed]",
      "text/plain": [
       "<Figure size 432x288 with 1 Axes>"
      ]
     },
     "metadata": {
      "needs_background": "light"
     },
     "output_type": "display_data"
    }
   ],
   "source": [
    "plt.bar( TF_iris['Frecuencia_absoluta'].index , TF_iris['Frecuencia_absoluta'],align='center',width=0.2,color='red',edgecolor ='black')\n",
    "plt.title('Diagrama de barras')\n",
    "plt.xlabel('species')\n",
    "plt.ylabel('Frecuencia absoluta')\n",
    "#plt.grid(True,color='gray')\n",
    "plt.show()"
   ]
  },
  {
   "cell_type": "code",
   "execution_count": 18,
   "metadata": {},
   "outputs": [
    {
     "data": {
      "image/png": "[encoded data removed]",
      "text/plain": [
       "<Figure size 432x288 with 1 Axes>"
      ]
     },
     "metadata": {
      "needs_background": "light"
     },
     "output_type": "display_data"
    }
   ],
   "source": [
    "plt.bar( TF_iris['Frecuencia_absoluta'].index , TF_iris['Frecuencia_absoluta'],align='center',width=0.0,color='red',edgecolor ='black')\n",
    "plt.title('Diagrama de barras')\n",
    "plt.xlabel('species')\n",
    "plt.ylabel('Frecuencia absoluta')\n",
    "#plt.grid(True,color='gray')\n",
    "plt.show()"
   ]
  },
  {
   "cell_type": "markdown",
   "metadata": {},
   "source": [
    "## 12) Diagramas de torta para frecuencias relativas - Datos no agrupados"
   ]
  },
  {
   "cell_type": "code",
   "execution_count": 19,
   "metadata": {},
   "outputs": [
    {
     "data": {
      "image/png": "[encoded data removed]",
      "text/plain": [
       "<Figure size 432x288 with 1 Axes>"
      ]
     },
     "metadata": {},
     "output_type": "display_data"
    }
   ],
   "source": [
    "colores=['yellow','green','gray']\n",
    "plt.pie(TF_iris['Frecuencia_relativa'],labels=TF_iris['Frecuencia_relativa'].index,autopct=\"%0.0f %%\",colors=colores)\n",
    "plt.title('Diagrama de torta')\n",
    "plt.axis('equal')\n",
    "plt.show()"
   ]
  },
  {
   "cell_type": "markdown",
   "metadata": {},
   "source": [
    "## 13) Tablas de contingencia "
   ]
  },
  {
   "cell_type": "code",
   "execution_count": 20,
   "metadata": {},
   "outputs": [
    {
     "data": {
      "text/html": [
       "<div>\n",
       "<style scoped>\n",
       "    .dataframe tbody tr th:only-of-type {\n",
       "        vertical-align: middle;\n",
       "    }\n",
       "\n",
       "    .dataframe tbody tr th {\n",
       "        vertical-align: top;\n",
       "    }\n",
       "\n",
       "    .dataframe thead th {\n",
       "        text-align: right;\n",
       "    }\n",
       "</style>\n",
       "<table border=\"1\" class=\"dataframe\">\n",
       "  <thead>\n",
       "    <tr style=\"text-align: right;\">\n",
       "      <th></th>\n",
       "      <th>Genero</th>\n",
       "      <th>Equipo_de_futbol</th>\n",
       "    </tr>\n",
       "  </thead>\n",
       "  <tbody>\n",
       "    <tr>\n",
       "      <th>0</th>\n",
       "      <td>Hombre</td>\n",
       "      <td>Millonarios</td>\n",
       "    </tr>\n",
       "    <tr>\n",
       "      <th>1</th>\n",
       "      <td>Mujer</td>\n",
       "      <td>Santa Fe</td>\n",
       "    </tr>\n",
       "    <tr>\n",
       "      <th>2</th>\n",
       "      <td>Hombre</td>\n",
       "      <td>Santa Fe</td>\n",
       "    </tr>\n",
       "    <tr>\n",
       "      <th>3</th>\n",
       "      <td>Mujer</td>\n",
       "      <td>Santa Fe</td>\n",
       "    </tr>\n",
       "    <tr>\n",
       "      <th>4</th>\n",
       "      <td>Mujer</td>\n",
       "      <td>Tolima</td>\n",
       "    </tr>\n",
       "    <tr>\n",
       "      <th>5</th>\n",
       "      <td>Hombre</td>\n",
       "      <td>Nacional</td>\n",
       "    </tr>\n",
       "    <tr>\n",
       "      <th>6</th>\n",
       "      <td>Mujer</td>\n",
       "      <td>Millonarios</td>\n",
       "    </tr>\n",
       "    <tr>\n",
       "      <th>7</th>\n",
       "      <td>Mujer</td>\n",
       "      <td>Millonarios</td>\n",
       "    </tr>\n",
       "  </tbody>\n",
       "</table>\n",
       "</div>"
      ],
      "text/plain": [
       "   Genero Equipo_de_futbol\n",
       "0  Hombre      Millonarios\n",
       "1   Mujer         Santa Fe\n",
       "2  Hombre         Santa Fe\n",
       "3   Mujer         Santa Fe\n",
       "4   Mujer           Tolima\n",
       "5  Hombre         Nacional\n",
       "6   Mujer      Millonarios\n",
       "7   Mujer      Millonarios"
      ]
     },
     "execution_count": 20,
     "metadata": {},
     "output_type": "execute_result"
    }
   ],
   "source": [
    "\n",
    "\n",
    "datos = [[\"Hombre\", \"Millonarios\"],\n",
    "         [\"Mujer\",\"Santa Fe\"],\n",
    "         [\"Hombre\", \"Santa Fe\"],\n",
    "         [\"Mujer\", \"Santa Fe\"],\n",
    "         [\"Mujer\", \"Tolima\"],\n",
    "         [\"Hombre\", \"Nacional\"],\n",
    "         [\"Mujer\", \"Millonarios\"],\n",
    "         [\"Mujer\", \"Millonarios\"]]\n",
    "import pandas as pd\n",
    "df = pd.DataFrame(datos, columns=[\"Genero\", \"Equipo_de_futbol\"])\n",
    "df"
   ]
  },
  {
   "cell_type": "code",
   "execution_count": 21,
   "metadata": {},
   "outputs": [
    {
     "data": {
      "text/html": [
       "<div>\n",
       "<style scoped>\n",
       "    .dataframe tbody tr th:only-of-type {\n",
       "        vertical-align: middle;\n",
       "    }\n",
       "\n",
       "    .dataframe tbody tr th {\n",
       "        vertical-align: top;\n",
       "    }\n",
       "\n",
       "    .dataframe thead th {\n",
       "        text-align: right;\n",
       "    }\n",
       "</style>\n",
       "<table border=\"1\" class=\"dataframe\">\n",
       "  <thead>\n",
       "    <tr style=\"text-align: right;\">\n",
       "      <th>Equipo_de_futbol</th>\n",
       "      <th>Millonarios</th>\n",
       "      <th>Nacional</th>\n",
       "      <th>Santa Fe</th>\n",
       "      <th>Tolima</th>\n",
       "      <th>All</th>\n",
       "    </tr>\n",
       "    <tr>\n",
       "      <th>Genero</th>\n",
       "      <th></th>\n",
       "      <th></th>\n",
       "      <th></th>\n",
       "      <th></th>\n",
       "      <th></th>\n",
       "    </tr>\n",
       "  </thead>\n",
       "  <tbody>\n",
       "    <tr>\n",
       "      <th>Hombre</th>\n",
       "      <td>1</td>\n",
       "      <td>1</td>\n",
       "      <td>1</td>\n",
       "      <td>0</td>\n",
       "      <td>3</td>\n",
       "    </tr>\n",
       "    <tr>\n",
       "      <th>Mujer</th>\n",
       "      <td>2</td>\n",
       "      <td>0</td>\n",
       "      <td>2</td>\n",
       "      <td>1</td>\n",
       "      <td>5</td>\n",
       "    </tr>\n",
       "    <tr>\n",
       "      <th>All</th>\n",
       "      <td>3</td>\n",
       "      <td>1</td>\n",
       "      <td>3</td>\n",
       "      <td>1</td>\n",
       "      <td>8</td>\n",
       "    </tr>\n",
       "  </tbody>\n",
       "</table>\n",
       "</div>"
      ],
      "text/plain": [
       "Equipo_de_futbol  Millonarios  Nacional  Santa Fe  Tolima  All\n",
       "Genero                                                        \n",
       "Hombre                      1         1         1       0    3\n",
       "Mujer                       2         0         2       1    5\n",
       "All                         3         1         3       1    8"
      ]
     },
     "execution_count": 21,
     "metadata": {},
     "output_type": "execute_result"
    }
   ],
   "source": [
    "pd.crosstab(df.Genero, df.Equipo_de_futbol,margins=True)\n"
   ]
  },
  {
   "cell_type": "markdown",
   "metadata": {},
   "source": [
    "## 14) Manejo de Data Frame"
   ]
  },
  {
   "cell_type": "code",
   "execution_count": 22,
   "metadata": {},
   "outputs": [
    {
     "data": {
      "text/html": [
       "<div>\n",
       "<style scoped>\n",
       "    .dataframe tbody tr th:only-of-type {\n",
       "        vertical-align: middle;\n",
       "    }\n",
       "\n",
       "    .dataframe tbody tr th {\n",
       "        vertical-align: top;\n",
       "    }\n",
       "\n",
       "    .dataframe thead th {\n",
       "        text-align: right;\n",
       "    }\n",
       "</style>\n",
       "<table border=\"1\" class=\"dataframe\">\n",
       "  <thead>\n",
       "    <tr style=\"text-align: right;\">\n",
       "      <th></th>\n",
       "      <th>survived</th>\n",
       "      <th>pclass</th>\n",
       "      <th>sex</th>\n",
       "      <th>age</th>\n",
       "      <th>sibsp</th>\n",
       "      <th>parch</th>\n",
       "      <th>fare</th>\n",
       "      <th>embarked</th>\n",
       "      <th>class</th>\n",
       "      <th>who</th>\n",
       "      <th>adult_male</th>\n",
       "      <th>deck</th>\n",
       "      <th>embark_town</th>\n",
       "      <th>alive</th>\n",
       "      <th>alone</th>\n",
       "    </tr>\n",
       "  </thead>\n",
       "  <tbody>\n",
       "    <tr>\n",
       "      <th>0</th>\n",
       "      <td>0</td>\n",
       "      <td>3</td>\n",
       "      <td>male</td>\n",
       "      <td>22.0</td>\n",
       "      <td>1</td>\n",
       "      <td>0</td>\n",
       "      <td>7.2500</td>\n",
       "      <td>S</td>\n",
       "      <td>Third</td>\n",
       "      <td>man</td>\n",
       "      <td>True</td>\n",
       "      <td>NaN</td>\n",
       "      <td>Southampton</td>\n",
       "      <td>no</td>\n",
       "      <td>False</td>\n",
       "    </tr>\n",
       "    <tr>\n",
       "      <th>1</th>\n",
       "      <td>1</td>\n",
       "      <td>1</td>\n",
       "      <td>female</td>\n",
       "      <td>38.0</td>\n",
       "      <td>1</td>\n",
       "      <td>0</td>\n",
       "      <td>71.2833</td>\n",
       "      <td>C</td>\n",
       "      <td>First</td>\n",
       "      <td>woman</td>\n",
       "      <td>False</td>\n",
       "      <td>C</td>\n",
       "      <td>Cherbourg</td>\n",
       "      <td>yes</td>\n",
       "      <td>False</td>\n",
       "    </tr>\n",
       "    <tr>\n",
       "      <th>2</th>\n",
       "      <td>1</td>\n",
       "      <td>3</td>\n",
       "      <td>female</td>\n",
       "      <td>26.0</td>\n",
       "      <td>0</td>\n",
       "      <td>0</td>\n",
       "      <td>7.9250</td>\n",
       "      <td>S</td>\n",
       "      <td>Third</td>\n",
       "      <td>woman</td>\n",
       "      <td>False</td>\n",
       "      <td>NaN</td>\n",
       "      <td>Southampton</td>\n",
       "      <td>yes</td>\n",
       "      <td>True</td>\n",
       "    </tr>\n",
       "    <tr>\n",
       "      <th>3</th>\n",
       "      <td>1</td>\n",
       "      <td>1</td>\n",
       "      <td>female</td>\n",
       "      <td>35.0</td>\n",
       "      <td>1</td>\n",
       "      <td>0</td>\n",
       "      <td>53.1000</td>\n",
       "      <td>S</td>\n",
       "      <td>First</td>\n",
       "      <td>woman</td>\n",
       "      <td>False</td>\n",
       "      <td>C</td>\n",
       "      <td>Southampton</td>\n",
       "      <td>yes</td>\n",
       "      <td>False</td>\n",
       "    </tr>\n",
       "    <tr>\n",
       "      <th>4</th>\n",
       "      <td>0</td>\n",
       "      <td>3</td>\n",
       "      <td>male</td>\n",
       "      <td>35.0</td>\n",
       "      <td>0</td>\n",
       "      <td>0</td>\n",
       "      <td>8.0500</td>\n",
       "      <td>S</td>\n",
       "      <td>Third</td>\n",
       "      <td>man</td>\n",
       "      <td>True</td>\n",
       "      <td>NaN</td>\n",
       "      <td>Southampton</td>\n",
       "      <td>no</td>\n",
       "      <td>True</td>\n",
       "    </tr>\n",
       "    <tr>\n",
       "      <th>...</th>\n",
       "      <td>...</td>\n",
       "      <td>...</td>\n",
       "      <td>...</td>\n",
       "      <td>...</td>\n",
       "      <td>...</td>\n",
       "      <td>...</td>\n",
       "      <td>...</td>\n",
       "      <td>...</td>\n",
       "      <td>...</td>\n",
       "      <td>...</td>\n",
       "      <td>...</td>\n",
       "      <td>...</td>\n",
       "      <td>...</td>\n",
       "      <td>...</td>\n",
       "      <td>...</td>\n",
       "    </tr>\n",
       "    <tr>\n",
       "      <th>886</th>\n",
       "      <td>0</td>\n",
       "      <td>2</td>\n",
       "      <td>male</td>\n",
       "      <td>27.0</td>\n",
       "      <td>0</td>\n",
       "      <td>0</td>\n",
       "      <td>13.0000</td>\n",
       "      <td>S</td>\n",
       "      <td>Second</td>\n",
       "      <td>man</td>\n",
       "      <td>True</td>\n",
       "      <td>NaN</td>\n",
       "      <td>Southampton</td>\n",
       "      <td>no</td>\n",
       "      <td>True</td>\n",
       "    </tr>\n",
       "    <tr>\n",
       "      <th>887</th>\n",
       "      <td>1</td>\n",
       "      <td>1</td>\n",
       "      <td>female</td>\n",
       "      <td>19.0</td>\n",
       "      <td>0</td>\n",
       "      <td>0</td>\n",
       "      <td>30.0000</td>\n",
       "      <td>S</td>\n",
       "      <td>First</td>\n",
       "      <td>woman</td>\n",
       "      <td>False</td>\n",
       "      <td>B</td>\n",
       "      <td>Southampton</td>\n",
       "      <td>yes</td>\n",
       "      <td>True</td>\n",
       "    </tr>\n",
       "    <tr>\n",
       "      <th>888</th>\n",
       "      <td>0</td>\n",
       "      <td>3</td>\n",
       "      <td>female</td>\n",
       "      <td>NaN</td>\n",
       "      <td>1</td>\n",
       "      <td>2</td>\n",
       "      <td>23.4500</td>\n",
       "      <td>S</td>\n",
       "      <td>Third</td>\n",
       "      <td>woman</td>\n",
       "      <td>False</td>\n",
       "      <td>NaN</td>\n",
       "      <td>Southampton</td>\n",
       "      <td>no</td>\n",
       "      <td>False</td>\n",
       "    </tr>\n",
       "    <tr>\n",
       "      <th>889</th>\n",
       "      <td>1</td>\n",
       "      <td>1</td>\n",
       "      <td>male</td>\n",
       "      <td>26.0</td>\n",
       "      <td>0</td>\n",
       "      <td>0</td>\n",
       "      <td>30.0000</td>\n",
       "      <td>C</td>\n",
       "      <td>First</td>\n",
       "      <td>man</td>\n",
       "      <td>True</td>\n",
       "      <td>C</td>\n",
       "      <td>Cherbourg</td>\n",
       "      <td>yes</td>\n",
       "      <td>True</td>\n",
       "    </tr>\n",
       "    <tr>\n",
       "      <th>890</th>\n",
       "      <td>0</td>\n",
       "      <td>3</td>\n",
       "      <td>male</td>\n",
       "      <td>32.0</td>\n",
       "      <td>0</td>\n",
       "      <td>0</td>\n",
       "      <td>7.7500</td>\n",
       "      <td>Q</td>\n",
       "      <td>Third</td>\n",
       "      <td>man</td>\n",
       "      <td>True</td>\n",
       "      <td>NaN</td>\n",
       "      <td>Queenstown</td>\n",
       "      <td>no</td>\n",
       "      <td>True</td>\n",
       "    </tr>\n",
       "  </tbody>\n",
       "</table>\n",
       "<p>891 rows × 15 columns</p>\n",
       "</div>"
      ],
      "text/plain": [
       "     survived  pclass     sex   age  sibsp  parch     fare embarked   class  \\\n",
       "0           0       3    male  22.0      1      0   7.2500        S   Third   \n",
       "1           1       1  female  38.0      1      0  71.2833        C   First   \n",
       "2           1       3  female  26.0      0      0   7.9250        S   Third   \n",
       "3           1       1  female  35.0      1      0  53.1000        S   First   \n",
       "4           0       3    male  35.0      0      0   8.0500        S   Third   \n",
       "..        ...     ...     ...   ...    ...    ...      ...      ...     ...   \n",
       "886         0       2    male  27.0      0      0  13.0000        S  Second   \n",
       "887         1       1  female  19.0      0      0  30.0000        S   First   \n",
       "888         0       3  female   NaN      1      2  23.4500        S   Third   \n",
       "889         1       1    male  26.0      0      0  30.0000        C   First   \n",
       "890         0       3    male  32.0      0      0   7.7500        Q   Third   \n",
       "\n",
       "       who  adult_male deck  embark_town alive  alone  \n",
       "0      man        True  NaN  Southampton    no  False  \n",
       "1    woman       False    C    Cherbourg   yes  False  \n",
       "2    woman       False  NaN  Southampton   yes   True  \n",
       "3    woman       False    C  Southampton   yes  False  \n",
       "4      man        True  NaN  Southampton    no   True  \n",
       "..     ...         ...  ...          ...   ...    ...  \n",
       "886    man        True  NaN  Southampton    no   True  \n",
       "887  woman       False    B  Southampton   yes   True  \n",
       "888  woman       False  NaN  Southampton    no  False  \n",
       "889    man        True    C    Cherbourg   yes   True  \n",
       "890    man        True  NaN   Queenstown    no   True  \n",
       "\n",
       "[891 rows x 15 columns]"
      ]
     },
     "execution_count": 22,
     "metadata": {},
     "output_type": "execute_result"
    }
   ],
   "source": [
    "titanic = sns.load_dataset('titanic') # Cargar los datos desde la libreria\n",
    "titanic"
   ]
  },
  {
   "cell_type": "code",
   "execution_count": 23,
   "metadata": {},
   "outputs": [
    {
     "data": {
      "text/plain": [
       "Index(['survived', 'pclass', 'sex', 'age', 'sibsp', 'parch', 'fare',\n",
       "       'embarked', 'class', 'who', 'adult_male', 'deck', 'embark_town',\n",
       "       'alive', 'alone'],\n",
       "      dtype='object')"
      ]
     },
     "execution_count": 23,
     "metadata": {},
     "output_type": "execute_result"
    }
   ],
   "source": [
    "titanic.columns # Nombre de las variables del Data Frame "
   ]
  },
  {
   "cell_type": "code",
   "execution_count": 24,
   "metadata": {},
   "outputs": [
    {
     "data": {
      "text/plain": [
       "survived          int64\n",
       "pclass            int64\n",
       "sex              object\n",
       "age             float64\n",
       "sibsp             int64\n",
       "parch             int64\n",
       "fare            float64\n",
       "embarked         object\n",
       "class          category\n",
       "who              object\n",
       "adult_male         bool\n",
       "deck           category\n",
       "embark_town      object\n",
       "alive            object\n",
       "alone              bool\n",
       "dtype: object"
      ]
     },
     "execution_count": 24,
     "metadata": {},
     "output_type": "execute_result"
    }
   ],
   "source": [
    "titanic.dtypes # Tipos de datos en el Data Frame"
   ]
  },
  {
   "cell_type": "code",
   "execution_count": 25,
   "metadata": {},
   "outputs": [
    {
     "data": {
      "text/html": [
       "<div>\n",
       "<style scoped>\n",
       "    .dataframe tbody tr th:only-of-type {\n",
       "        vertical-align: middle;\n",
       "    }\n",
       "\n",
       "    .dataframe tbody tr th {\n",
       "        vertical-align: top;\n",
       "    }\n",
       "\n",
       "    .dataframe thead th {\n",
       "        text-align: right;\n",
       "    }\n",
       "</style>\n",
       "<table border=\"1\" class=\"dataframe\">\n",
       "  <thead>\n",
       "    <tr style=\"text-align: right;\">\n",
       "      <th></th>\n",
       "      <th>survived</th>\n",
       "      <th>pclass</th>\n",
       "      <th>age</th>\n",
       "      <th>sibsp</th>\n",
       "      <th>parch</th>\n",
       "      <th>fare</th>\n",
       "    </tr>\n",
       "  </thead>\n",
       "  <tbody>\n",
       "    <tr>\n",
       "      <th>count</th>\n",
       "      <td>891.000000</td>\n",
       "      <td>891.000000</td>\n",
       "      <td>714.000000</td>\n",
       "      <td>891.000000</td>\n",
       "      <td>891.000000</td>\n",
       "      <td>891.000000</td>\n",
       "    </tr>\n",
       "    <tr>\n",
       "      <th>mean</th>\n",
       "      <td>0.383838</td>\n",
       "      <td>2.308642</td>\n",
       "      <td>29.699118</td>\n",
       "      <td>0.523008</td>\n",
       "      <td>0.381594</td>\n",
       "      <td>32.204208</td>\n",
       "    </tr>\n",
       "    <tr>\n",
       "      <th>std</th>\n",
       "      <td>0.486592</td>\n",
       "      <td>0.836071</td>\n",
       "      <td>14.526497</td>\n",
       "      <td>1.102743</td>\n",
       "      <td>0.806057</td>\n",
       "      <td>49.693429</td>\n",
       "    </tr>\n",
       "    <tr>\n",
       "      <th>min</th>\n",
       "      <td>0.000000</td>\n",
       "      <td>1.000000</td>\n",
       "      <td>0.420000</td>\n",
       "      <td>0.000000</td>\n",
       "      <td>0.000000</td>\n",
       "      <td>0.000000</td>\n",
       "    </tr>\n",
       "    <tr>\n",
       "      <th>25%</th>\n",
       "      <td>0.000000</td>\n",
       "      <td>2.000000</td>\n",
       "      <td>20.125000</td>\n",
       "      <td>0.000000</td>\n",
       "      <td>0.000000</td>\n",
       "      <td>7.910400</td>\n",
       "    </tr>\n",
       "    <tr>\n",
       "      <th>50%</th>\n",
       "      <td>0.000000</td>\n",
       "      <td>3.000000</td>\n",
       "      <td>28.000000</td>\n",
       "      <td>0.000000</td>\n",
       "      <td>0.000000</td>\n",
       "      <td>14.454200</td>\n",
       "    </tr>\n",
       "    <tr>\n",
       "      <th>75%</th>\n",
       "      <td>1.000000</td>\n",
       "      <td>3.000000</td>\n",
       "      <td>38.000000</td>\n",
       "      <td>1.000000</td>\n",
       "      <td>0.000000</td>\n",
       "      <td>31.000000</td>\n",
       "    </tr>\n",
       "    <tr>\n",
       "      <th>max</th>\n",
       "      <td>1.000000</td>\n",
       "      <td>3.000000</td>\n",
       "      <td>80.000000</td>\n",
       "      <td>8.000000</td>\n",
       "      <td>6.000000</td>\n",
       "      <td>512.329200</td>\n",
       "    </tr>\n",
       "  </tbody>\n",
       "</table>\n",
       "</div>"
      ],
      "text/plain": [
       "         survived      pclass         age       sibsp       parch        fare\n",
       "count  891.000000  891.000000  714.000000  891.000000  891.000000  891.000000\n",
       "mean     0.383838    2.308642   29.699118    0.523008    0.381594   32.204208\n",
       "std      0.486592    0.836071   14.526497    1.102743    0.806057   49.693429\n",
       "min      0.000000    1.000000    0.420000    0.000000    0.000000    0.000000\n",
       "25%      0.000000    2.000000   20.125000    0.000000    0.000000    7.910400\n",
       "50%      0.000000    3.000000   28.000000    0.000000    0.000000   14.454200\n",
       "75%      1.000000    3.000000   38.000000    1.000000    0.000000   31.000000\n",
       "max      1.000000    3.000000   80.000000    8.000000    6.000000  512.329200"
      ]
     },
     "execution_count": 25,
     "metadata": {},
     "output_type": "execute_result"
    }
   ],
   "source": [
    "titanic.describe() # Resumen de las variables"
   ]
  },
  {
   "cell_type": "code",
   "execution_count": 26,
   "metadata": {},
   "outputs": [
    {
     "data": {
      "text/html": [
       "<div>\n",
       "<style scoped>\n",
       "    .dataframe tbody tr th:only-of-type {\n",
       "        vertical-align: middle;\n",
       "    }\n",
       "\n",
       "    .dataframe tbody tr th {\n",
       "        vertical-align: top;\n",
       "    }\n",
       "\n",
       "    .dataframe thead th {\n",
       "        text-align: right;\n",
       "    }\n",
       "</style>\n",
       "<table border=\"1\" class=\"dataframe\">\n",
       "  <thead>\n",
       "    <tr style=\"text-align: right;\">\n",
       "      <th></th>\n",
       "      <th>survived</th>\n",
       "    </tr>\n",
       "    <tr>\n",
       "      <th>class</th>\n",
       "      <th></th>\n",
       "    </tr>\n",
       "  </thead>\n",
       "  <tbody>\n",
       "    <tr>\n",
       "      <th>First</th>\n",
       "      <td>0.629630</td>\n",
       "    </tr>\n",
       "    <tr>\n",
       "      <th>Second</th>\n",
       "      <td>0.472826</td>\n",
       "    </tr>\n",
       "    <tr>\n",
       "      <th>Third</th>\n",
       "      <td>0.242363</td>\n",
       "    </tr>\n",
       "  </tbody>\n",
       "</table>\n",
       "</div>"
      ],
      "text/plain": [
       "        survived\n",
       "class           \n",
       "First   0.629630\n",
       "Second  0.472826\n",
       "Third   0.242363"
      ]
     },
     "execution_count": 26,
     "metadata": {},
     "output_type": "execute_result"
    }
   ],
   "source": [
    "titanic.pivot_table('survived', 'class')"
   ]
  },
  {
   "cell_type": "code",
   "execution_count": 27,
   "metadata": {},
   "outputs": [
    {
     "data": {
      "text/html": [
       "<div>\n",
       "<style scoped>\n",
       "    .dataframe tbody tr th:only-of-type {\n",
       "        vertical-align: middle;\n",
       "    }\n",
       "\n",
       "    .dataframe tbody tr th {\n",
       "        vertical-align: top;\n",
       "    }\n",
       "\n",
       "    .dataframe thead th {\n",
       "        text-align: right;\n",
       "    }\n",
       "</style>\n",
       "<table border=\"1\" class=\"dataframe\">\n",
       "  <thead>\n",
       "    <tr style=\"text-align: right;\">\n",
       "      <th></th>\n",
       "      <th>survived</th>\n",
       "    </tr>\n",
       "    <tr>\n",
       "      <th>class</th>\n",
       "      <th></th>\n",
       "    </tr>\n",
       "  </thead>\n",
       "  <tbody>\n",
       "    <tr>\n",
       "      <th>First</th>\n",
       "      <td>136</td>\n",
       "    </tr>\n",
       "    <tr>\n",
       "      <th>Second</th>\n",
       "      <td>87</td>\n",
       "    </tr>\n",
       "    <tr>\n",
       "      <th>Third</th>\n",
       "      <td>119</td>\n",
       "    </tr>\n",
       "    <tr>\n",
       "      <th>All</th>\n",
       "      <td>342</td>\n",
       "    </tr>\n",
       "  </tbody>\n",
       "</table>\n",
       "</div>"
      ],
      "text/plain": [
       "        survived\n",
       "class           \n",
       "First        136\n",
       "Second        87\n",
       "Third        119\n",
       "All          342"
      ]
     },
     "execution_count": 27,
     "metadata": {},
     "output_type": "execute_result"
    }
   ],
   "source": [
    "titanic.pivot_table('survived', 'class', aggfunc=np.sum,margins=True)"
   ]
  },
  {
   "cell_type": "code",
   "execution_count": 28,
   "metadata": {},
   "outputs": [
    {
     "data": {
      "text/html": [
       "<div>\n",
       "<style scoped>\n",
       "    .dataframe tbody tr th:only-of-type {\n",
       "        vertical-align: middle;\n",
       "    }\n",
       "\n",
       "    .dataframe tbody tr th {\n",
       "        vertical-align: top;\n",
       "    }\n",
       "\n",
       "    .dataframe thead th {\n",
       "        text-align: right;\n",
       "    }\n",
       "</style>\n",
       "<table border=\"1\" class=\"dataframe\">\n",
       "  <thead>\n",
       "    <tr style=\"text-align: right;\">\n",
       "      <th>class</th>\n",
       "      <th>First</th>\n",
       "      <th>Second</th>\n",
       "      <th>Third</th>\n",
       "    </tr>\n",
       "    <tr>\n",
       "      <th>sex</th>\n",
       "      <th></th>\n",
       "      <th></th>\n",
       "      <th></th>\n",
       "    </tr>\n",
       "  </thead>\n",
       "  <tbody>\n",
       "    <tr>\n",
       "      <th>female</th>\n",
       "      <td>0.968085</td>\n",
       "      <td>0.921053</td>\n",
       "      <td>0.500000</td>\n",
       "    </tr>\n",
       "    <tr>\n",
       "      <th>male</th>\n",
       "      <td>0.368852</td>\n",
       "      <td>0.157407</td>\n",
       "      <td>0.135447</td>\n",
       "    </tr>\n",
       "  </tbody>\n",
       "</table>\n",
       "</div>"
      ],
      "text/plain": [
       "class      First    Second     Third\n",
       "sex                                 \n",
       "female  0.968085  0.921053  0.500000\n",
       "male    0.368852  0.157407  0.135447"
      ]
     },
     "execution_count": 28,
     "metadata": {},
     "output_type": "execute_result"
    }
   ],
   "source": [
    "titanic.pivot_table('survived', 'sex', 'class')"
   ]
  },
  {
   "cell_type": "markdown",
   "metadata": {},
   "source": [
    "## 15) Medidas de tendencia central, de dispersión y de colocación"
   ]
  },
  {
   "cell_type": "code",
   "execution_count": 29,
   "metadata": {},
   "outputs": [
    {
     "data": {
      "text/plain": [
       "array([158.38377527, 146.88620075, 153.96802783, 152.28425341,\n",
       "       151.69184499, 152.46958188, 152.0131796 , 153.97717929,\n",
       "       145.44571107, 152.99461486, 153.31102713, 155.76531575,\n",
       "       151.31085029, 151.71717958, 154.39184175, 153.22418934,\n",
       "       151.83502638, 148.5895565 , 156.12525322, 150.16140475,\n",
       "       151.13244471, 156.387882  , 157.37036716, 155.89722803,\n",
       "       154.33536095, 150.8708737 , 153.02972633, 154.82754449,\n",
       "       155.75906655, 146.370834  , 152.80014894, 145.75859513,\n",
       "       151.73775992, 145.60418733, 153.96044209, 147.00171011,\n",
       "       145.7917963 , 151.73811212, 152.15510226, 145.24141931,\n",
       "       152.02944135, 147.34468706, 150.56650806, 149.85891185,\n",
       "       152.3923961 , 152.24186366, 155.07190849, 149.45458342,\n",
       "       152.45531984, 151.51531836, 152.63230117, 154.89228326,\n",
       "       148.59572342, 150.34448975, 154.95627255, 151.89794684,\n",
       "       144.96555422, 155.43671037, 157.08130129, 151.5712921 ,\n",
       "       152.33629936, 149.97225521, 154.36287165, 153.42422889,\n",
       "       153.36966483, 153.40096419, 151.42117604, 152.5976672 ,\n",
       "       148.85608455, 152.30091903, 153.04826638, 153.67855314,\n",
       "       152.75642018, 152.29369853, 152.79601449, 147.23771707,\n",
       "       150.03976376, 150.41035918, 146.55758821, 152.84619402,\n",
       "       150.44713953, 150.97968874, 146.19606956, 155.10084306,\n",
       "       156.02044231, 155.57765121, 153.79227216, 147.34086987,\n",
       "       152.19027693, 146.95266728, 148.46523263, 153.89135005,\n",
       "       151.78025711, 161.29934743, 148.54723332, 153.06810887,\n",
       "       148.6161588 , 146.34020061, 151.31264956, 151.66064191,\n",
       "       151.01058182, 148.59601064, 149.02514296, 153.91712527,\n",
       "       149.60923511, 152.57866635, 150.31760486, 153.5024444 ,\n",
       "       153.32011483, 161.51367513, 152.92049108, 152.72441633,\n",
       "       155.00151337, 150.10443055, 150.13766787, 154.97497538,\n",
       "       147.81619668, 149.13594465, 154.56541794, 150.01692933,\n",
       "       152.40211351, 145.87520081, 152.46449895, 148.2677596 ,\n",
       "       158.08878847, 153.03419143, 151.89169325, 151.92346795,\n",
       "       154.83905768, 151.56522585, 154.08071679, 151.22366361,\n",
       "       150.75942327, 151.21218515, 152.45133471, 150.5461337 ,\n",
       "       150.66738688, 154.47394562, 156.87858286, 147.88775186,\n",
       "       151.18179091, 149.63104597, 150.8699401 , 155.95331619,\n",
       "       156.50345402, 155.01093973, 150.93646641, 150.27065486,\n",
       "       156.62137536, 148.08032415, 150.12731099, 146.94043356,\n",
       "       151.12915538, 153.80935607, 150.49676897, 156.60336699,\n",
       "       151.87375321, 151.19460959, 153.79895859, 152.791893  ,\n",
       "       149.26697261, 162.03859891, 153.32312162, 151.60056582,\n",
       "       152.34311807, 148.90624968, 149.81476769, 152.23323629,\n",
       "       153.5007593 , 153.72979572, 149.67518641, 152.31707751,\n",
       "       154.16166713, 148.35883049, 150.54181936, 151.53764911,\n",
       "       153.39410781, 150.5444945 , 152.23662326, 154.45469256,\n",
       "       152.40501469, 157.01554546, 152.88459392, 153.93711259,\n",
       "       153.89931655, 152.83569089, 153.3058164 , 155.61993642,\n",
       "       152.50341548, 150.72175198, 152.67427242, 153.43038043,\n",
       "       157.08785488, 149.98516507, 151.43127417, 151.96380691,\n",
       "       151.89088383, 146.41603407, 150.39787433, 154.83472062,\n",
       "       158.28785587, 151.29213872, 152.76306267, 153.37374378,\n",
       "       150.73126092, 153.90206959, 158.26709837, 150.0221606 ,\n",
       "       155.50946289, 156.20334264, 156.49824891, 145.45472007,\n",
       "       151.90146807, 148.62591955, 150.84678367, 150.72788514,\n",
       "       148.16039214, 152.42697725, 151.39818465, 151.09845932,\n",
       "       150.5400158 , 150.34593811, 151.01077158, 152.67823609,\n",
       "       150.66674442, 150.62509785, 154.82594645, 152.20034396,\n",
       "       155.16062876, 153.19912826, 151.94905785, 148.22489267,\n",
       "       150.23878316, 149.60862109, 155.436427  , 154.64997854,\n",
       "       155.47510293, 157.28155364, 156.08864666, 152.9217184 ,\n",
       "       152.68694534, 149.36092037, 142.93666491, 150.68893313,\n",
       "       154.1578663 , 151.66437827, 150.82638857, 146.55178356,\n",
       "       151.0036077 , 155.10686263, 154.41667186, 153.94868705,\n",
       "       148.88780919, 151.20205004, 148.73288489, 150.51614017,\n",
       "       151.16043786, 159.73429066, 153.78960721, 151.83730681,\n",
       "       154.09542773, 156.66742429, 153.49596559, 154.50884558,\n",
       "       152.08820216, 153.82688615, 151.77521248, 151.90843797,\n",
       "       155.66963195, 156.38439438, 158.03591322, 151.60753882,\n",
       "       151.45131002, 151.98775867, 149.20973112, 153.96584854,\n",
       "       148.76100065, 153.07893009, 152.82569149, 152.58585005,\n",
       "       146.35279195, 149.10429633, 157.37411062, 150.3528372 ,\n",
       "       151.13547772, 155.68884776, 154.02389263, 152.2725333 ,\n",
       "       157.93779261, 147.97258681, 150.96816128, 147.74436366,\n",
       "       149.62916663, 152.03692223, 153.45912569, 159.13143578,\n",
       "       153.92007895, 149.3781319 , 157.22181936, 150.03718452,\n",
       "       147.23289507, 152.29849271, 148.95167543, 150.14889134,\n",
       "       150.85593693, 154.06988435, 154.92989564, 150.14652519,\n",
       "       152.80858723, 153.5896463 , 148.82257998, 150.97577045,\n",
       "       154.9840222 , 147.86887067, 153.22100972, 155.12991822,\n",
       "       153.86524593, 149.53415262, 151.48718419, 151.30037374,\n",
       "       152.53864724, 155.07327878, 147.03075248, 146.54807954,\n",
       "       151.73737593, 152.88375975, 156.88533603, 154.2961422 ,\n",
       "       152.26060876, 152.98595804, 152.43050246, 147.63593689,\n",
       "       156.79108767, 148.65965231, 150.90259562, 150.81054734,\n",
       "       153.23374389, 151.11297074, 150.80897651, 153.29234133,\n",
       "       147.79200059, 149.85899927, 149.50962344, 150.84345717,\n",
       "       149.84403883, 153.1087575 , 151.50606291, 150.75354731,\n",
       "       153.03322304, 151.88557911, 150.77594644, 155.67025177,\n",
       "       149.29949324, 148.95220386, 150.796782  , 151.67553599,\n",
       "       154.81299123, 150.38093876, 153.69121148, 150.71975064,\n",
       "       154.64035807, 151.0592868 , 153.99104963, 150.19250855,\n",
       "       150.06093024, 153.70724515, 152.54376545, 153.96173023,\n",
       "       155.88696106, 149.73435119, 148.32871706, 153.55215489,\n",
       "       151.13551239, 151.51665038, 152.58321287, 148.55906338,\n",
       "       152.64485246, 153.97687849, 148.59401297, 147.32027337,\n",
       "       150.69258038, 152.88121035, 154.55439902, 150.53344039,\n",
       "       153.31043369, 153.36594056, 152.89692652, 153.60947552,\n",
       "       154.7220971 , 152.17252139, 149.53829367, 153.66683853,\n",
       "       151.51700363, 152.1544961 , 147.05624097, 152.78401468,\n",
       "       148.08303653, 155.8539353 , 151.9278491 , 150.52309463,\n",
       "       153.17385603, 149.22330199, 151.29944969, 145.60265297,\n",
       "       158.85241792, 157.07385562, 153.22525052, 145.80612489,\n",
       "       149.74519602, 151.3388576 , 153.26379645, 150.24370473,\n",
       "       149.21907431, 152.48179611, 153.47577947, 150.8075618 ,\n",
       "       152.6362476 , 147.47427466, 148.01886945, 147.07848747,\n",
       "       153.97126723, 149.68055498, 150.69859754, 151.12915571,\n",
       "       150.73399108, 155.34492564, 159.43943086, 146.09870242,\n",
       "       155.5240378 , 151.13815976, 153.0087124 , 154.82644587,\n",
       "       148.786759  , 149.75143154, 150.27776689, 155.06175459,\n",
       "       149.56922156, 153.64675281, 152.39280513, 151.83402265,\n",
       "       151.4009107 , 152.18842811, 155.36982459, 148.59542971,\n",
       "       151.80334358, 155.62420092, 148.26204541, 154.58392261,\n",
       "       151.95405357, 152.80244675, 150.00458662, 154.86778148,\n",
       "       148.86515895, 154.25254755, 151.11935857, 153.79227069,\n",
       "       152.79033916, 155.99235848, 151.0754348 , 151.00751764,\n",
       "       152.26925772, 149.50785543, 151.07911309, 147.86795184,\n",
       "       153.52078313, 143.46266702, 153.97863085, 152.45180552,\n",
       "       153.1182643 , 154.86742642, 157.47630187, 158.57054059,\n",
       "       151.37591283, 150.78504209, 151.43845107, 158.18643695,\n",
       "       150.38458788, 152.6261853 , 148.45067245, 155.31811118,\n",
       "       151.79943609, 155.34559162, 155.08969126, 151.78763265,\n",
       "       154.54881641, 153.8957379 , 154.7778192 , 151.12804579,\n",
       "       155.01645437, 156.68720366, 151.4650384 , 155.61071365,\n",
       "       147.15571538, 151.6590447 , 154.28435897, 148.09290111,\n",
       "       150.61740476, 154.45771421, 155.12694246, 152.88133903,\n",
       "       153.02620625, 148.28711914, 155.11391291, 144.58114557,\n",
       "       150.76363965, 150.99077572, 159.44798677, 154.24142789,\n",
       "       150.24554435, 151.01144162, 145.06004577, 148.93065376,\n",
       "       151.79220672, 153.26904163, 150.70382784, 149.68652649,\n",
       "       151.72117764, 149.99284602, 149.31317874, 154.76528415,\n",
       "       152.22402488, 149.65213447, 147.18810366, 154.31887829,\n",
       "       152.1614028 , 155.65037645, 152.2466565 , 153.18315081,\n",
       "       156.37358236, 148.73542575, 150.19987155, 146.97985767,\n",
       "       150.51145633, 154.68597917, 152.27757285, 156.04601626,\n",
       "       152.35792073, 154.12801035, 148.39835179, 153.62588988,\n",
       "       155.33591289, 150.10357932, 151.09244317, 153.93006319,\n",
       "       149.21826506, 157.84437257, 149.47676745, 152.92199845,\n",
       "       153.18103874, 155.88889161, 155.48072458, 143.71378168,\n",
       "       156.8748359 , 149.30142479, 151.57767177, 156.55802024,\n",
       "       150.71915791, 146.93420226, 151.35291421, 149.99445451,\n",
       "       152.61336318, 151.37207669, 152.90659927, 149.20750793,\n",
       "       149.5288296 , 149.8992342 , 158.05980818, 154.33624104,\n",
       "       147.7310792 , 152.03373694, 150.71826254, 155.62588915,\n",
       "       153.94416901, 145.15853203, 149.02009894, 147.01005693,\n",
       "       150.97903121, 154.75708655, 149.37465562, 155.53717321,\n",
       "       149.39336267, 155.50285522, 150.19431928, 148.92096827,\n",
       "       151.65200177, 156.90614087, 152.25374541, 153.91298671,\n",
       "       153.57009007, 150.86227131, 152.49957412, 147.63669458,\n",
       "       150.91800357, 148.11982057, 156.99198343, 157.50552356,\n",
       "       148.37866956, 154.42768297, 150.68232226, 154.87322236,\n",
       "       156.21709875, 148.30154806, 147.88206835, 154.88820788,\n",
       "       156.03461769, 154.90084806, 157.43061764, 146.3707759 ,\n",
       "       158.5153722 , 154.34107337, 151.2807801 , 152.2748873 ,\n",
       "       149.46834272, 153.43291271, 156.08682885, 151.32985535,\n",
       "       150.68620102, 148.7762162 , 149.71033461, 155.36277987,\n",
       "       149.19720461, 154.50283445, 154.97928865, 154.53585689,\n",
       "       153.50813272, 155.30279423, 148.93919987, 152.5690459 ,\n",
       "       147.37391507, 157.56307795, 154.86042028, 153.7656426 ,\n",
       "       152.70240745, 151.03372728, 151.92410278, 145.27052003,\n",
       "       155.70297214, 153.21029197, 150.49938499, 154.65892056,\n",
       "       151.51914188, 152.98540808, 151.9456149 , 154.87961875,\n",
       "       153.77265429, 152.74809059, 150.93612572, 150.98662181,\n",
       "       149.73911011, 154.6480235 , 155.00480934, 150.1266057 ,\n",
       "       151.65544715, 149.22084369, 150.35839095, 149.51168609,\n",
       "       157.76530627, 154.6478226 , 153.53243707, 150.83221234,\n",
       "       149.27227676, 147.08619197, 152.52901043, 151.95431175,\n",
       "       152.40357595, 154.33561391, 157.20726662, 152.17157781,\n",
       "       155.10221764, 151.10413881, 150.079551  , 156.14440008,\n",
       "       153.29343064, 158.03122601, 151.24125549, 146.26673699,\n",
       "       150.41229983, 152.31972718, 150.18597606, 152.81842041,\n",
       "       147.24677663, 148.71699485, 152.15786079, 151.38730199,\n",
       "       152.33956245, 155.53257129, 149.52887676, 151.04466725,\n",
       "       154.65373379, 153.43119084, 153.26506064, 157.46364592,\n",
       "       149.13266523, 150.19076766, 150.37598541, 151.23522052,\n",
       "       155.10340885, 151.07796549, 152.74526256, 145.66563738,\n",
       "       156.80694715, 153.05813549, 151.26818743, 154.58369293,\n",
       "       149.29335105, 147.02649699, 155.07266417, 156.60470832,\n",
       "       148.53041333, 151.31058305, 155.13741332, 153.27151111,\n",
       "       148.16639076, 149.34603783, 151.25937633, 155.41674196,\n",
       "       154.26088925, 152.87308103, 148.41445114, 152.28511481,\n",
       "       155.66927025, 151.34963637, 151.44824495, 155.94348992,\n",
       "       145.40761473, 148.29651114, 156.44620929, 151.45108653,\n",
       "       151.28771316, 154.20710272, 152.26388356, 155.20819137,\n",
       "       146.41608039, 153.09036659, 152.680985  , 150.87900476,\n",
       "       152.29544479, 149.73320503, 156.15500317, 147.65658445,\n",
       "       155.92397568, 150.40721604, 143.06895561, 150.36787987,\n",
       "       151.02632123, 151.7378296 , 154.78151343, 154.61780946,\n",
       "       147.04031327, 153.69265539, 156.1687075 , 152.67752464,\n",
       "       154.74874509, 154.24076608, 152.54663305, 154.13856126,\n",
       "       149.96573383, 153.93182298, 153.4807728 , 155.18408739,\n",
       "       148.62585371, 153.22274871, 149.25256201, 151.4774528 ,\n",
       "       151.11988209, 153.1567655 , 155.17190684, 150.96446251,\n",
       "       155.8061049 , 153.52493824, 153.00038072, 151.99763125,\n",
       "       148.77260729, 152.80596821, 151.13645383, 150.06431966,\n",
       "       157.1238377 , 154.96438851, 150.96817291, 153.57439998,\n",
       "       150.87282326, 149.09143105, 149.94018694, 150.74845308,\n",
       "       154.37086693, 145.08361337, 152.56821725, 153.50517128,\n",
       "       151.60164379, 147.81463894, 149.10047013, 152.89015714,\n",
       "       150.73582251, 151.56078878, 152.51823562, 150.42458383,\n",
       "       152.60257406, 155.03640057, 154.91590501, 153.11258501,\n",
       "       148.98952603, 152.74915885, 153.74626281, 149.53538889,\n",
       "       156.03821791, 150.81740889, 150.51239018, 155.09577585,\n",
       "       151.56977959, 154.87990055, 154.65020879, 151.58341758,\n",
       "       150.18534511, 152.49348221, 152.89622666, 151.42663462,\n",
       "       153.72004094, 151.57379776, 151.74864618, 154.49679441,\n",
       "       144.37963835, 146.72779776, 147.78056604, 152.138849  ,\n",
       "       151.04237845, 153.08089475, 151.45191414, 154.97165651,\n",
       "       147.55081808, 151.15537791, 151.88768075, 155.02701547,\n",
       "       151.6974601 , 149.30022643, 152.34729592, 149.40792433,\n",
       "       157.77451394, 150.98968881, 151.36522975, 155.90305012,\n",
       "       151.16672101, 154.33421494, 154.48374256, 151.16970705,\n",
       "       154.78894754, 151.74743177, 147.74653072, 152.35998778,\n",
       "       155.90700203, 154.74771483, 159.4623011 , 154.41007067,\n",
       "       155.22500112, 151.323765  , 156.01765098, 152.32098497,\n",
       "       155.33171547, 154.21948272, 153.14084608, 154.07353599,\n",
       "       152.77970214, 154.64729922, 157.19759282, 156.68538546,\n",
       "       154.61077323, 148.33199021, 148.65677218, 154.5954985 ,\n",
       "       159.8772671 , 152.15331489, 148.02047807, 152.93440734,\n",
       "       154.03939492, 151.71805004, 148.83218273, 152.91000364,\n",
       "       153.29260505, 149.83205041, 148.80022351, 151.94767148,\n",
       "       149.12011918, 152.56054943, 152.51158396, 154.13414205,\n",
       "       149.47275061, 147.88968957, 154.18600351, 150.14734366,\n",
       "       153.35201627, 151.56534862, 146.9740866 , 154.82602581,\n",
       "       152.89929611, 154.58088892, 155.14906757, 147.9863251 ,\n",
       "       152.26486548, 152.62935377, 152.85794757, 153.64543813,\n",
       "       149.25076248, 152.41625555, 152.06948469, 150.70185316,\n",
       "       150.86151571, 154.27979852, 149.26640749, 149.51675943,\n",
       "       145.92320736, 158.46947208, 146.58383899, 151.30611648,\n",
       "       152.85984347, 151.72364525, 149.83361409, 155.95859249,\n",
       "       158.92811777, 153.71078469, 154.10633289, 152.5571353 ,\n",
       "       149.58278308, 151.72118826, 150.3288612 , 154.61933362,\n",
       "       146.79793541, 151.63237205, 153.37302549, 152.21965085,\n",
       "       152.55013748, 149.47121014, 153.66022156, 150.77791819,\n",
       "       157.31208056, 150.33363985, 149.63795439, 156.04998999,\n",
       "       154.6534365 , 149.94615781, 148.32729782, 154.37796001,\n",
       "       154.95009469, 144.08160108, 156.02645425, 153.84801155,\n",
       "       152.96410767, 156.19444288, 153.03730897, 152.24546549,\n",
       "       158.41072719, 155.11817537, 149.07666747, 148.62273902,\n",
       "       149.07431538, 154.84924036, 145.63226315, 153.06511981,\n",
       "       149.53770723, 152.35893763, 147.33787233, 154.89545774,\n",
       "       150.17300934, 154.62880907, 150.88547098, 153.71006962,\n",
       "       152.88809683, 147.04643714, 157.27713691, 153.79051482,\n",
       "       149.60380388, 153.89889058, 148.55611318, 152.92881672,\n",
       "       158.07616621, 156.10703022, 152.85210595, 154.66462241,\n",
       "       149.48407676, 153.20245706, 153.47182401, 153.1034574 ,\n",
       "       152.84159609, 144.74656694, 157.51897209, 150.74820721,\n",
       "       149.92345232, 153.4378389 , 153.71542958, 147.42549114,\n",
       "       154.07966021, 154.82084138, 151.93254433, 152.33433639,\n",
       "       148.06106969, 151.04328901, 145.25672559, 152.63466018,\n",
       "       152.58853582, 153.68976363, 150.42597959, 157.79518183])"
      ]
     },
     "execution_count": 29,
     "metadata": {},
     "output_type": "execute_result"
    }
   ],
   "source": [
    "X = random.normal(loc=152,scale=3,size=1000)\n",
    "X"
   ]
  },
  {
   "cell_type": "code",
   "execution_count": 30,
   "metadata": {},
   "outputs": [
    {
     "data": {
      "image/png": "[encoded data removed]",
      "text/plain": [
       "<Figure size 432x288 with 1 Axes>"
      ]
     },
     "metadata": {
      "needs_background": "light"
     },
     "output_type": "display_data"
    }
   ],
   "source": [
    "plt.hist(X,edgecolor ='black')\n",
    "plt.show()"
   ]
  },
  {
   "cell_type": "code",
   "execution_count": 31,
   "metadata": {},
   "outputs": [
    {
     "data": {
      "text/plain": [
       "152.09051353019098"
      ]
     },
     "execution_count": 31,
     "metadata": {},
     "output_type": "execute_result"
    }
   ],
   "source": [
    "media=np.mean(X)\n",
    "media"
   ]
  },
  {
   "cell_type": "code",
   "execution_count": 32,
   "metadata": {},
   "outputs": [
    {
     "data": {
      "text/plain": [
       "152.2218378660182"
      ]
     },
     "execution_count": 32,
     "metadata": {},
     "output_type": "execute_result"
    }
   ],
   "source": [
    "mediana=np.median(X)\n",
    "mediana"
   ]
  },
  {
   "cell_type": "code",
   "execution_count": 33,
   "metadata": {},
   "outputs": [
    {
     "data": {
      "text/plain": [
       "8.776129324655491"
      ]
     },
     "execution_count": 33,
     "metadata": {},
     "output_type": "execute_result"
    }
   ],
   "source": [
    "varianza=np.var(X)\n",
    "varianza"
   ]
  },
  {
   "cell_type": "code",
   "execution_count": 34,
   "metadata": {},
   "outputs": [
    {
     "data": {
      "text/plain": [
       "2.9624532611765355"
      ]
     },
     "execution_count": 34,
     "metadata": {},
     "output_type": "execute_result"
    }
   ],
   "source": [
    "desviacion_estandar=np.std(X)\n",
    "desviacion_estandar"
   ]
  },
  {
   "cell_type": "code",
   "execution_count": 35,
   "metadata": {},
   "outputs": [
    {
     "data": {
      "text/plain": [
       "154.09815402045993"
      ]
     },
     "execution_count": 35,
     "metadata": {},
     "output_type": "execute_result"
    }
   ],
   "source": [
    "percentil_75=np.percentile(X, 75)\n",
    "percentil_75"
   ]
  },
  {
   "cell_type": "code",
   "execution_count": 36,
   "metadata": {},
   "outputs": [
    {
     "data": {
      "text/plain": [
       "150.19386659355965"
      ]
     },
     "execution_count": 36,
     "metadata": {},
     "output_type": "execute_result"
    }
   ],
   "source": [
    "percentil_25=np.percentile(X, 25)\n",
    "percentil_25"
   ]
  },
  {
   "cell_type": "markdown",
   "metadata": {},
   "source": [
    "## 16) Diagrama de caja y bigotes"
   ]
  },
  {
   "cell_type": "code",
   "execution_count": 37,
   "metadata": {},
   "outputs": [],
   "source": [
    "X = random.normal(loc=152,scale=3,size=1000)\n"
   ]
  },
  {
   "cell_type": "code",
   "execution_count": 38,
   "metadata": {},
   "outputs": [
    {
     "data": {
      "image/png": "[encoded data removed]",
      "text/plain": [
       "<Figure size 432x288 with 1 Axes>"
      ]
     },
     "metadata": {
      "needs_background": "light"
     },
     "output_type": "display_data"
    }
   ],
   "source": [
    "plt.boxplot(X) # Con matplotlib\n",
    "plt.show()"
   ]
  },
  {
   "cell_type": "code",
   "execution_count": 39,
   "metadata": {},
   "outputs": [
    {
     "data": {
      "image/png": "[encoded data removed]",
      "text/plain": [
       "<Figure size 432x288 with 1 Axes>"
      ]
     },
     "metadata": {
      "needs_background": "light"
     },
     "output_type": "display_data"
    }
   ],
   "source": [
    "sns.boxplot(data=X) # Con seaborn\n",
    "plt.show()"
   ]
  },
  {
   "cell_type": "markdown",
   "metadata": {},
   "source": [
    "## 17) Covarianza y correlación"
   ]
  },
  {
   "cell_type": "code",
   "execution_count": 40,
   "metadata": {},
   "outputs": [
    {
     "data": {
      "text/html": [
       "<div>\n",
       "<style scoped>\n",
       "    .dataframe tbody tr th:only-of-type {\n",
       "        vertical-align: middle;\n",
       "    }\n",
       "\n",
       "    .dataframe tbody tr th {\n",
       "        vertical-align: top;\n",
       "    }\n",
       "\n",
       "    .dataframe thead th {\n",
       "        text-align: right;\n",
       "    }\n",
       "</style>\n",
       "<table border=\"1\" class=\"dataframe\">\n",
       "  <thead>\n",
       "    <tr style=\"text-align: right;\">\n",
       "      <th></th>\n",
       "      <th>x</th>\n",
       "      <th>y</th>\n",
       "    </tr>\n",
       "  </thead>\n",
       "  <tbody>\n",
       "    <tr>\n",
       "      <th>0</th>\n",
       "      <td>1.70</td>\n",
       "      <td>71</td>\n",
       "    </tr>\n",
       "    <tr>\n",
       "      <th>1</th>\n",
       "      <td>1.72</td>\n",
       "      <td>73</td>\n",
       "    </tr>\n",
       "    <tr>\n",
       "      <th>2</th>\n",
       "      <td>1.68</td>\n",
       "      <td>67</td>\n",
       "    </tr>\n",
       "    <tr>\n",
       "      <th>3</th>\n",
       "      <td>1.80</td>\n",
       "      <td>79</td>\n",
       "    </tr>\n",
       "    <tr>\n",
       "      <th>4</th>\n",
       "      <td>1.55</td>\n",
       "      <td>57</td>\n",
       "    </tr>\n",
       "    <tr>\n",
       "      <th>5</th>\n",
       "      <td>1.60</td>\n",
       "      <td>61</td>\n",
       "    </tr>\n",
       "    <tr>\n",
       "      <th>6</th>\n",
       "      <td>1.62</td>\n",
       "      <td>62</td>\n",
       "    </tr>\n",
       "    <tr>\n",
       "      <th>7</th>\n",
       "      <td>1.59</td>\n",
       "      <td>58</td>\n",
       "    </tr>\n",
       "    <tr>\n",
       "      <th>8</th>\n",
       "      <td>1.83</td>\n",
       "      <td>81</td>\n",
       "    </tr>\n",
       "    <tr>\n",
       "      <th>9</th>\n",
       "      <td>1.81</td>\n",
       "      <td>82</td>\n",
       "    </tr>\n",
       "    <tr>\n",
       "      <th>10</th>\n",
       "      <td>1.72</td>\n",
       "      <td>71</td>\n",
       "    </tr>\n",
       "    <tr>\n",
       "      <th>11</th>\n",
       "      <td>1.71</td>\n",
       "      <td>71</td>\n",
       "    </tr>\n",
       "    <tr>\n",
       "      <th>12</th>\n",
       "      <td>1.69</td>\n",
       "      <td>70</td>\n",
       "    </tr>\n",
       "    <tr>\n",
       "      <th>13</th>\n",
       "      <td>1.63</td>\n",
       "      <td>64</td>\n",
       "    </tr>\n",
       "    <tr>\n",
       "      <th>14</th>\n",
       "      <td>1.70</td>\n",
       "      <td>69</td>\n",
       "    </tr>\n",
       "    <tr>\n",
       "      <th>15</th>\n",
       "      <td>1.70</td>\n",
       "      <td>68</td>\n",
       "    </tr>\n",
       "    <tr>\n",
       "      <th>16</th>\n",
       "      <td>1.71</td>\n",
       "      <td>70</td>\n",
       "    </tr>\n",
       "    <tr>\n",
       "      <th>17</th>\n",
       "      <td>1.69</td>\n",
       "      <td>70</td>\n",
       "    </tr>\n",
       "    <tr>\n",
       "      <th>18</th>\n",
       "      <td>1.72</td>\n",
       "      <td>73</td>\n",
       "    </tr>\n",
       "    <tr>\n",
       "      <th>19</th>\n",
       "      <td>1.70</td>\n",
       "      <td>74</td>\n",
       "    </tr>\n",
       "  </tbody>\n",
       "</table>\n",
       "</div>"
      ],
      "text/plain": [
       "       x   y\n",
       "0   1.70  71\n",
       "1   1.72  73\n",
       "2   1.68  67\n",
       "3   1.80  79\n",
       "4   1.55  57\n",
       "5   1.60  61\n",
       "6   1.62  62\n",
       "7   1.59  58\n",
       "8   1.83  81\n",
       "9   1.81  82\n",
       "10  1.72  71\n",
       "11  1.71  71\n",
       "12  1.69  70\n",
       "13  1.63  64\n",
       "14  1.70  69\n",
       "15  1.70  68\n",
       "16  1.71  70\n",
       "17  1.69  70\n",
       "18  1.72  73\n",
       "19  1.70  74"
      ]
     },
     "execution_count": 40,
     "metadata": {},
     "output_type": "execute_result"
    }
   ],
   "source": [
    "x=np.array([1.70,1.72,1.68,1.80,1.55,1.60,1.62,1.59,1.83,1.81,1.72,1.71,1.69,1.63,1.70,1.70,1.71,1.69,1.72,1.70])\n",
    "y=np.array([71,73,67,79,57,61,62,58,81,82,71,71,70,64,69,68,70,70,73,74])\n",
    "datos=pd.DataFrame({'x':x,'y':y})\n",
    "datos\n"
   ]
  },
  {
   "cell_type": "code",
   "execution_count": 41,
   "metadata": {},
   "outputs": [
    {
     "data": {
      "image/png": "[encoded data removed]",
      "text/plain": [
       "<Figure size 432x288 with 1 Axes>"
      ]
     },
     "metadata": {
      "needs_background": "light"
     },
     "output_type": "display_data"
    }
   ],
   "source": [
    "plt.scatter(x,y,color='red')\n",
    "plt.grid()\n",
    "plt.xlabel('Estatura(metros)')\n",
    "plt.ylabel('Peso(kg)')\n",
    "plt.title('Estatura vs Peso')\n",
    "plt.show()"
   ]
  },
  {
   "cell_type": "code",
   "execution_count": 42,
   "metadata": {},
   "outputs": [
    {
     "data": {
      "text/plain": [
       "1.6935000000000007"
      ]
     },
     "execution_count": 42,
     "metadata": {},
     "output_type": "execute_result"
    }
   ],
   "source": [
    "media_x=np.array(x).mean()\n",
    "media_x"
   ]
  },
  {
   "cell_type": "code",
   "execution_count": 43,
   "metadata": {},
   "outputs": [
    {
     "data": {
      "text/plain": [
       "69.55"
      ]
     },
     "execution_count": 43,
     "metadata": {},
     "output_type": "execute_result"
    }
   ],
   "source": [
    "media_y=np.array(y).mean()\n",
    "media_y"
   ]
  },
  {
   "cell_type": "code",
   "execution_count": 44,
   "metadata": {},
   "outputs": [
    {
     "data": {
      "text/plain": [
       "9.031499999999998"
      ]
     },
     "execution_count": 44,
     "metadata": {},
     "output_type": "execute_result"
    }
   ],
   "source": [
    "SSxy=np.sum((x-media_x)*(y-media_y))\n",
    "SSxy"
   ]
  },
  {
   "cell_type": "code",
   "execution_count": 45,
   "metadata": {},
   "outputs": [
    {
     "data": {
      "text/plain": [
       "20"
      ]
     },
     "execution_count": 45,
     "metadata": {},
     "output_type": "execute_result"
    }
   ],
   "source": [
    "n=len(x)\n",
    "n"
   ]
  },
  {
   "cell_type": "code",
   "execution_count": 46,
   "metadata": {},
   "outputs": [
    {
     "data": {
      "text/plain": [
       "0.4753421052631578"
      ]
     },
     "execution_count": 46,
     "metadata": {},
     "output_type": "execute_result"
    }
   ],
   "source": [
    "covarianza_xy=SSxy/(n-1)\n",
    "covarianza_xy"
   ]
  },
  {
   "cell_type": "code",
   "execution_count": 47,
   "metadata": {},
   "outputs": [
    {
     "name": "stdout",
     "output_type": "stream",
     "text": [
      "0.09605499999999999\n",
      "886.9500000000002\n"
     ]
    }
   ],
   "source": [
    "SSx=np.sum((x-media_x)*(x-media_x))\n",
    "print(SSx)\n",
    "SSy=np.sum((y-media_y)*(y-media_y))\n",
    "print(SSy)"
   ]
  },
  {
   "cell_type": "code",
   "execution_count": 48,
   "metadata": {},
   "outputs": [
    {
     "data": {
      "text/plain": [
       "0.9784763408604267"
      ]
     },
     "execution_count": 48,
     "metadata": {},
     "output_type": "execute_result"
    }
   ],
   "source": [
    "r=SSxy/mt.sqrt(SSx*SSy)\n",
    "r\n"
   ]
  },
  {
   "cell_type": "code",
   "execution_count": 49,
   "metadata": {},
   "outputs": [
    {
     "data": {
      "text/plain": [
       "array([[5.05552632e-03, 4.75342105e-01],\n",
       "       [4.75342105e-01, 4.66815789e+01]])"
      ]
     },
     "execution_count": 49,
     "metadata": {},
     "output_type": "execute_result"
    }
   ],
   "source": [
    "Matriz_covarianzas=np.cov(x,y)\n",
    "Matriz_covarianzas"
   ]
  },
  {
   "cell_type": "code",
   "execution_count": 50,
   "metadata": {},
   "outputs": [
    {
     "data": {
      "text/plain": [
       "array([[1.        , 0.97847634],\n",
       "       [0.97847634, 1.        ]])"
      ]
     },
     "execution_count": 50,
     "metadata": {},
     "output_type": "execute_result"
    }
   ],
   "source": [
    "Matriz_correlacion=np.corrcoef(x,y)\n",
    "Matriz_correlacion"
   ]
  },
  {
   "cell_type": "markdown",
   "metadata": {},
   "source": [
    "## 18) Regresión lineal simple"
   ]
  },
  {
   "cell_type": "code",
   "execution_count": 51,
   "metadata": {},
   "outputs": [],
   "source": [
    "# Entrada: Vectores x y y\n",
    "# Salida: m, b y SSE\n",
    "def Regresion_lineal_simple(x,y):\n",
    "    n=np.size(x)\n",
    "    media_x=np.array(x).mean()\n",
    "    media_y=np.array(y).mean()\n",
    "    SSxy=np.sum((x-media_x)*(y-media_y))\n",
    "    SSx=np.sum((x-media_x)*(x-media_x))\n",
    "    SSy=np.sum((y-media_y)*(y-media_y))\n",
    "    m=SSxy/SSx\n",
    "    b=media_y-m*media_x\n",
    "    SSE=SSy-m*SSxy\n",
    "    return m, b, SSE"
   ]
  },
  {
   "cell_type": "code",
   "execution_count": 52,
   "metadata": {},
   "outputs": [
    {
     "name": "stdout",
     "output_type": "stream",
     "text": [
      "m=94.02425693613033, b=-89.68007912133679 y SSE=37.76992348133933\n"
     ]
    }
   ],
   "source": [
    "m,b,SSE=Regresion_lineal_simple(x,y)\n",
    "print(f'm={m}, b={b} y SSE={SSE}')"
   ]
  },
  {
   "cell_type": "code",
   "execution_count": 53,
   "metadata": {},
   "outputs": [
    {
     "data": {
      "image/png": "[encoded data removed]",
      "text/plain": [
       "<Figure size 432x288 with 1 Axes>"
      ]
     },
     "metadata": {
      "needs_background": "light"
     },
     "output_type": "display_data"
    }
   ],
   "source": [
    "%matplotlib inline\n",
    "\n",
    "m,b,SSE=Regresion_lineal_simple(x,y)\n",
    "plt.scatter(x,y,color='red')\n",
    "y_gorro=m*x+b\n",
    "plt.plot(x,y_gorro,color='b',label='$\\widehat{y}='f'({m.round(4)})''x+'f'({b.round(4)})''$')\n",
    "plt.grid()\n",
    "plt.xlabel('Estatura(metros)')\n",
    "plt.ylabel('Peso(kg)')\n",
    "plt.title('Estatura vs Peso')\n",
    "plt.legend()\n",
    "plt.show()"
   ]
  },
  {
   "cell_type": "code",
   "execution_count": 54,
   "metadata": {},
   "outputs": [],
   "source": [
    "# Entrada: Valor x que se quiere predecir, pendiemte m e intercepto b de la recta de regresión lineal\n",
    "# Salida: Predicción\n",
    "def modelo(x,m,b):\n",
    "    y_gorro=m*x+b\n",
    "    return y_gorro"
   ]
  },
  {
   "cell_type": "code",
   "execution_count": 55,
   "metadata": {},
   "outputs": [
    {
     "name": "stdout",
     "output_type": "stream",
     "text": [
      " Si una persona mide 1.64 metros, entonces se predice que esa persona pesará 64.52 kg\n"
     ]
    }
   ],
   "source": [
    "x0=1.64\n",
    "print(f' Si una persona mide {x0} metros, entonces se predice que esa persona pesará {modelo(x0,m,b).round(2)} kg')"
   ]
  },
  {
   "cell_type": "markdown",
   "metadata": {},
   "source": [
    "## 19) Forma matricial de los minimos cuadrados"
   ]
  },
  {
   "cell_type": "markdown",
   "metadata": {},
   "source": [
    "Se debe encontrar el polinomio de regresión simple de grado $m$\n",
    "\n",
    "$$\\widehat{y}=a_{0}+a_{1}x+a_{2}x^{2}+\\cdots + a_{m}x^{m} $$"
   ]
  },
  {
   "cell_type": "code",
   "execution_count": 56,
   "metadata": {},
   "outputs": [
    {
     "data": {
      "text/latex": [
       "$\\displaystyle \\left[\\begin{matrix}1.7 & 1.0\\\\1.72 & 1.0\\\\1.68 & 1.0\\\\1.8 & 1.0\\\\1.55 & 1.0\\\\1.6 & 1.0\\\\1.62 & 1.0\\\\1.59 & 1.0\\\\1.83 & 1.0\\\\1.81 & 1.0\\\\1.72 & 1.0\\\\1.71 & 1.0\\\\1.69 & 1.0\\\\1.63 & 1.0\\\\1.7 & 1.0\\\\1.7 & 1.0\\\\1.71 & 1.0\\\\1.69 & 1.0\\\\1.72 & 1.0\\\\1.7 & 1.0\\end{matrix}\\right]$"
      ],
      "text/plain": [
       "Matrix([\n",
       "[ 1.7, 1.0],\n",
       "[1.72, 1.0],\n",
       "[1.68, 1.0],\n",
       "[ 1.8, 1.0],\n",
       "[1.55, 1.0],\n",
       "[ 1.6, 1.0],\n",
       "[1.62, 1.0],\n",
       "[1.59, 1.0],\n",
       "[1.83, 1.0],\n",
       "[1.81, 1.0],\n",
       "[1.72, 1.0],\n",
       "[1.71, 1.0],\n",
       "[1.69, 1.0],\n",
       "[1.63, 1.0],\n",
       "[ 1.7, 1.0],\n",
       "[ 1.7, 1.0],\n",
       "[1.71, 1.0],\n",
       "[1.69, 1.0],\n",
       "[1.72, 1.0],\n",
       "[ 1.7, 1.0]])"
      ]
     },
     "execution_count": 56,
     "metadata": {},
     "output_type": "execute_result"
    }
   ],
   "source": [
    "A=Matrix([x.tolist(),np.ones(20).tolist()])\n",
    "A=A.T\n",
    "A"
   ]
  },
  {
   "cell_type": "code",
   "execution_count": 57,
   "metadata": {},
   "outputs": [
    {
     "data": {
      "text/latex": [
       "$\\displaystyle \\left[\\begin{matrix}71\\\\73\\\\67\\\\79\\\\57\\\\61\\\\62\\\\58\\\\81\\\\82\\\\71\\\\71\\\\70\\\\64\\\\69\\\\68\\\\70\\\\70\\\\73\\\\74\\end{matrix}\\right]$"
      ],
      "text/plain": [
       "Matrix([\n",
       "[71],\n",
       "[73],\n",
       "[67],\n",
       "[79],\n",
       "[57],\n",
       "[61],\n",
       "[62],\n",
       "[58],\n",
       "[81],\n",
       "[82],\n",
       "[71],\n",
       "[71],\n",
       "[70],\n",
       "[64],\n",
       "[69],\n",
       "[68],\n",
       "[70],\n",
       "[70],\n",
       "[73],\n",
       "[74]])"
      ]
     },
     "execution_count": 57,
     "metadata": {},
     "output_type": "execute_result"
    }
   ],
   "source": [
    "c=Matrix(y.tolist())\n",
    "c"
   ]
  },
  {
   "cell_type": "code",
   "execution_count": 58,
   "metadata": {},
   "outputs": [
    {
     "data": {
      "text/latex": [
       "$\\displaystyle \\left[\\begin{matrix}57.4549 & 33.87\\\\33.87 & 20.0\\end{matrix}\\right]$"
      ],
      "text/plain": [
       "Matrix([\n",
       "[57.4549, 33.87],\n",
       "[  33.87,  20.0]])"
      ]
     },
     "execution_count": 58,
     "metadata": {},
     "output_type": "execute_result"
    }
   ],
   "source": [
    "M=A.T*A\n",
    "M\n"
   ]
  },
  {
   "cell_type": "code",
   "execution_count": 59,
   "metadata": {},
   "outputs": [
    {
     "data": {
      "text/latex": [
       "$\\displaystyle \\left[\\begin{matrix}2364.69\\\\1391.0\\end{matrix}\\right]$"
      ],
      "text/plain": [
       "Matrix([\n",
       "[2364.69],\n",
       "[ 1391.0]])"
      ]
     },
     "execution_count": 59,
     "metadata": {},
     "output_type": "execute_result"
    }
   ],
   "source": [
    "A.T*c"
   ]
  },
  {
   "cell_type": "code",
   "execution_count": 60,
   "metadata": {},
   "outputs": [
    {
     "data": {
      "text/latex": [
       "$\\displaystyle \\left[\\begin{matrix}57.4549 & 33.87 & 2364.69\\\\33.87 & 20.0 & 1391.0\\end{matrix}\\right]$"
      ],
      "text/plain": [
       "Matrix([\n",
       "[57.4549, 33.87, 2364.69],\n",
       "[  33.87,  20.0,  1391.0]])"
      ]
     },
     "execution_count": 60,
     "metadata": {},
     "output_type": "execute_result"
    }
   ],
   "source": [
    "nc=int(M.shape[1])\n",
    "D=M.col_insert(nc,A.T*c)\n",
    "D"
   ]
  },
  {
   "cell_type": "code",
   "execution_count": 61,
   "metadata": {},
   "outputs": [
    {
     "data": {
      "text/latex": [
       "$\\displaystyle \\left[\\begin{matrix}94.0242569361479\\\\-89.6800791213665\\end{matrix}\\right]$"
      ],
      "text/plain": [
       "Matrix([\n",
       "[ 94.0242569361479],\n",
       "[-89.6800791213665]])"
      ]
     },
     "execution_count": 61,
     "metadata": {},
     "output_type": "execute_result"
    }
   ],
   "source": [
    "u=D.rref()[0][:,nc]\n",
    "u"
   ]
  },
  {
   "cell_type": "markdown",
   "metadata": {},
   "source": [
    "$$a_{1}= m=94.0242569361309 $$\n",
    "\n",
    "$$a_{0}=b= -89.6800791213377$$"
   ]
  },
  {
   "cell_type": "code",
   "execution_count": 62,
   "metadata": {},
   "outputs": [
    {
     "data": {
      "text/plain": [
       "array([2.89  , 2.9584, 2.8224, 3.24  , 2.4025, 2.56  , 2.6244, 2.5281,\n",
       "       3.3489, 3.2761, 2.9584, 2.9241, 2.8561, 2.6569, 2.89  , 2.89  ,\n",
       "       2.9241, 2.8561, 2.9584, 2.89  ])"
      ]
     },
     "execution_count": 62,
     "metadata": {},
     "output_type": "execute_result"
    }
   ],
   "source": [
    "x2=x**2\n",
    "x2"
   ]
  },
  {
   "cell_type": "code",
   "execution_count": 63,
   "metadata": {},
   "outputs": [
    {
     "data": {
      "text/latex": [
       "$\\displaystyle \\left[\\begin{matrix}2.89 & 1.7 & 1.0\\\\2.9584 & 1.72 & 1.0\\\\2.8224 & 1.68 & 1.0\\\\3.24 & 1.8 & 1.0\\\\2.4025 & 1.55 & 1.0\\\\2.56 & 1.6 & 1.0\\\\2.6244 & 1.62 & 1.0\\\\2.5281 & 1.59 & 1.0\\\\3.3489 & 1.83 & 1.0\\\\3.2761 & 1.81 & 1.0\\\\2.9584 & 1.72 & 1.0\\\\2.9241 & 1.71 & 1.0\\\\2.8561 & 1.69 & 1.0\\\\2.6569 & 1.63 & 1.0\\\\2.89 & 1.7 & 1.0\\\\2.89 & 1.7 & 1.0\\\\2.9241 & 1.71 & 1.0\\\\2.8561 & 1.69 & 1.0\\\\2.9584 & 1.72 & 1.0\\\\2.89 & 1.7 & 1.0\\end{matrix}\\right]$"
      ],
      "text/plain": [
       "Matrix([\n",
       "[  2.89,  1.7, 1.0],\n",
       "[2.9584, 1.72, 1.0],\n",
       "[2.8224, 1.68, 1.0],\n",
       "[  3.24,  1.8, 1.0],\n",
       "[2.4025, 1.55, 1.0],\n",
       "[  2.56,  1.6, 1.0],\n",
       "[2.6244, 1.62, 1.0],\n",
       "[2.5281, 1.59, 1.0],\n",
       "[3.3489, 1.83, 1.0],\n",
       "[3.2761, 1.81, 1.0],\n",
       "[2.9584, 1.72, 1.0],\n",
       "[2.9241, 1.71, 1.0],\n",
       "[2.8561, 1.69, 1.0],\n",
       "[2.6569, 1.63, 1.0],\n",
       "[  2.89,  1.7, 1.0],\n",
       "[  2.89,  1.7, 1.0],\n",
       "[2.9241, 1.71, 1.0],\n",
       "[2.8561, 1.69, 1.0],\n",
       "[2.9584, 1.72, 1.0],\n",
       "[  2.89,  1.7, 1.0]])"
      ]
     },
     "execution_count": 63,
     "metadata": {},
     "output_type": "execute_result"
    }
   ],
   "source": [
    "A=Matrix([x2.tolist(),x.tolist(),np.ones(20).tolist()])\n",
    "A=A.T\n",
    "A"
   ]
  },
  {
   "cell_type": "code",
   "execution_count": 64,
   "metadata": {},
   "outputs": [
    {
     "data": {
      "text/latex": [
       "$\\displaystyle \\left[\\begin{matrix}166.15512073 & 97.625073 & 57.4549\\\\97.625073 & 57.4549 & 33.87\\\\57.4549 & 33.87 & 20.0\\end{matrix}\\right]$"
      ],
      "text/plain": [
       "Matrix([\n",
       "[166.15512073, 97.625073, 57.4549],\n",
       "[   97.625073,   57.4549,   33.87],\n",
       "[     57.4549,     33.87,    20.0]])"
      ]
     },
     "execution_count": 64,
     "metadata": {},
     "output_type": "execute_result"
    }
   ],
   "source": [
    "M=A.T*A\n",
    "M"
   ]
  },
  {
   "cell_type": "code",
   "execution_count": 65,
   "metadata": {},
   "outputs": [
    {
     "data": {
      "text/latex": [
       "$\\displaystyle \\left[\\begin{matrix}4026.5535\\\\2364.69\\\\1391.0\\end{matrix}\\right]$"
      ],
      "text/plain": [
       "Matrix([\n",
       "[4026.5535],\n",
       "[  2364.69],\n",
       "[   1391.0]])"
      ]
     },
     "execution_count": 65,
     "metadata": {},
     "output_type": "execute_result"
    }
   ],
   "source": [
    "A.T*c"
   ]
  },
  {
   "cell_type": "code",
   "execution_count": 66,
   "metadata": {},
   "outputs": [
    {
     "data": {
      "text/latex": [
       "$\\displaystyle \\left[\\begin{matrix}166.15512073 & 97.625073 & 57.4549 & 4026.5535\\\\97.625073 & 57.4549 & 33.87 & 2364.69\\\\57.4549 & 33.87 & 20.0 & 1391.0\\end{matrix}\\right]$"
      ],
      "text/plain": [
       "Matrix([\n",
       "[166.15512073, 97.625073, 57.4549, 4026.5535],\n",
       "[   97.625073,   57.4549,   33.87,   2364.69],\n",
       "[     57.4549,     33.87,    20.0,    1391.0]])"
      ]
     },
     "execution_count": 66,
     "metadata": {},
     "output_type": "execute_result"
    }
   ],
   "source": [
    "nc=int(M.shape[1])\n",
    "D=M.col_insert(nc,A.T*c)\n",
    "D"
   ]
  },
  {
   "cell_type": "code",
   "execution_count": 67,
   "metadata": {},
   "outputs": [
    {
     "data": {
      "text/latex": [
       "$\\displaystyle \\left[\\begin{matrix}-13.3236761135616\\\\139.132345776678\\\\-127.795103635952\\end{matrix}\\right]$"
      ],
      "text/plain": [
       "Matrix([\n",
       "[-13.3236761135616],\n",
       "[ 139.132345776678],\n",
       "[-127.795103635952]])"
      ]
     },
     "execution_count": 67,
     "metadata": {},
     "output_type": "execute_result"
    }
   ],
   "source": [
    "u=D.rref()[0][:,nc]\n",
    "u"
   ]
  },
  {
   "cell_type": "code",
   "execution_count": 68,
   "metadata": {},
   "outputs": [],
   "source": [
    "a2=u[0]\n",
    "a1=u[1]\n",
    "a0=u[2]"
   ]
  },
  {
   "cell_type": "code",
   "execution_count": 69,
   "metadata": {},
   "outputs": [
    {
     "data": {
      "image/png": "[encoded data removed]",
      "text/plain": [
       "<Figure size 432x288 with 1 Axes>"
      ]
     },
     "metadata": {
      "needs_background": "light"
     },
     "output_type": "display_data"
    }
   ],
   "source": [
    "plt.scatter(x,y,color='red')\n",
    "xg=np.linspace(np.min(x),np.max(x),100)\n",
    "y_gorro=a2*xg**2+a1*xg+a0\n",
    "plt.plot(xg,y_gorro,color='b',label='$\\widehat{y}='f'({a2.round(2)})''x^{2}+'f'({a1.round(2)})''x+'f'({a0.round(2)})''$')\n",
    "plt.xlabel('Estatura(metros)')\n",
    "plt.ylabel('Peso(kg)')\n",
    "plt.title('Estatura vs Peso')\n",
    "plt.legend()\n",
    "plt.grid()\n",
    "plt.show()"
   ]
  },
  {
   "cell_type": "code",
   "execution_count": 70,
   "metadata": {},
   "outputs": [],
   "source": [
    "# Entrada: Arrays x, y y un entero m que es el grado del polinomio de regresión.\n",
    "# Salida un vector con los coeficientes del polinomio de regresión.\n",
    "def Regresion_polinomica(x,y,m):\n",
    "    A=Matrix([])\n",
    "    i=0\n",
    "    while i<m+1:\n",
    "        xm=x**(m-i)\n",
    "        A=A.col_insert(i,Matrix(xm.tolist()))\n",
    "        i+=1\n",
    "    c=Matrix(y)\n",
    "    M=A.T*A\n",
    "    nc=int(M.shape[1])\n",
    "    D=M.col_insert(nc,A.T*c)\n",
    "    u=D.rref()[0][:,nc]\n",
    "    return u"
   ]
  },
  {
   "cell_type": "code",
   "execution_count": 71,
   "metadata": {},
   "outputs": [
    {
     "data": {
      "text/latex": [
       "$\\displaystyle \\left[\\begin{matrix}-479.509605169101\\\\2373.84365731403\\\\-3811.94154333966\\\\1908.60558185827\\\\184.378256154167\\end{matrix}\\right]$"
      ],
      "text/plain": [
       "Matrix([\n",
       "[-479.509605169101],\n",
       "[ 2373.84365731403],\n",
       "[-3811.94154333966],\n",
       "[ 1908.60558185827],\n",
       "[ 184.378256154167]])"
      ]
     },
     "execution_count": 71,
     "metadata": {},
     "output_type": "execute_result"
    }
   ],
   "source": [
    "m=4\n",
    "u=Regresion_polinomica(x,y,m)\n",
    "u"
   ]
  },
  {
   "cell_type": "code",
   "execution_count": 72,
   "metadata": {},
   "outputs": [
    {
     "data": {
      "image/png": "[encoded data removed]",
      "text/plain": [
       "<Figure size 432x288 with 1 Axes>"
      ]
     },
     "metadata": {
      "needs_background": "light"
     },
     "output_type": "display_data"
    }
   ],
   "source": [
    "plt.scatter(x,y,color='red')\n",
    "xg=np.linspace(np.min(x),np.max(x),100)\n",
    "y_gorro=u[0]*xg**4+u[1]*xg**3+u[2]*xg**2+u[3]*xg**1+u[4]\n",
    "plt.plot(xg,y_gorro,color='b',label='$\\widehat{y}='f'{u[0].round(1)}''x^{4}+'f'{u[1].round(1)}''x^{3}+'f'{u[2].round(1)}''x^{2}+'f'{u[3].round(1)}''x +'f'{u[4].round(1)}''$')\n",
    "plt.xlabel('Estatura(metros)')\n",
    "plt.ylabel('Peso(kg)')\n",
    "plt.title('Estatura vs Peso')\n",
    "plt.legend()\n",
    "plt.grid()\n",
    "plt.show()"
   ]
  },
  {
   "cell_type": "markdown",
   "metadata": {},
   "source": [
    "## 20) Modelo de regresión lineal simple usando la libreria sklearn"
   ]
  },
  {
   "cell_type": "code",
   "execution_count": 73,
   "metadata": {},
   "outputs": [],
   "source": [
    "from sklearn.model_selection import train_test_split\n",
    "from sklearn.linear_model import LinearRegression"
   ]
  },
  {
   "cell_type": "code",
   "execution_count": 74,
   "metadata": {},
   "outputs": [
    {
     "data": {
      "text/plain": [
       "array([[1.7 ],\n",
       "       [1.72],\n",
       "       [1.68],\n",
       "       [1.8 ],\n",
       "       [1.55],\n",
       "       [1.6 ],\n",
       "       [1.62],\n",
       "       [1.59],\n",
       "       [1.83],\n",
       "       [1.81],\n",
       "       [1.72],\n",
       "       [1.71],\n",
       "       [1.69],\n",
       "       [1.63],\n",
       "       [1.7 ],\n",
       "       [1.7 ],\n",
       "       [1.71],\n",
       "       [1.69],\n",
       "       [1.72],\n",
       "       [1.7 ]])"
      ]
     },
     "execution_count": 74,
     "metadata": {},
     "output_type": "execute_result"
    }
   ],
   "source": [
    "x=datos.iloc[:,:-1].values\n",
    "x"
   ]
  },
  {
   "cell_type": "code",
   "execution_count": 75,
   "metadata": {},
   "outputs": [
    {
     "name": "stdout",
     "output_type": "stream",
     "text": [
      "[94.02425694]\n",
      "-89.68007912133676\n",
      "[0.30992741]\n"
     ]
    }
   ],
   "source": [
    "regresion=LinearRegression()\n",
    "regresion.fit(x,y)\n",
    "print(regresion.coef_)\n",
    "print(regresion.intercept_)\n",
    "print(regresion.singular_)"
   ]
  },
  {
   "cell_type": "code",
   "execution_count": null,
   "metadata": {},
   "outputs": [],
   "source": []
  }
 ],
 "metadata": {
  "kernelspec": {
   "display_name": "Python 3",
   "language": "python",
   "name": "python3"
  },
  "language_info": {
   "codemirror_mode": {
    "name": "ipython",
    "version": 3
   },
   "file_extension": ".py",
   "mimetype": "text/x-python",
   "name": "python",
   "nbconvert_exporter": "python",
   "pygments_lexer": "ipython3",
   "version": "3.7.6"
  }
 },
 "nbformat": 4,
 "nbformat_minor": 4
}
